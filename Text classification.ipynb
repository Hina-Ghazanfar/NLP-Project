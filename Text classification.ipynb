{
 "cells": [
  {
   "cell_type": "markdown",
   "id": "7684616a-bbe4-4b37-ac27-0e6e584d4b43",
   "metadata": {},
   "source": [
    "# Section 2: Text classification"
   ]
  },
  {
   "cell_type": "markdown",
   "id": "9423caaa-c68e-4660-8e8d-3c96fc02d077",
   "metadata": {},
   "source": [
    "# 2.1\tText classification with Word2Vec"
   ]
  },
  {
   "cell_type": "markdown",
   "id": "ededebbb-7bcd-4627-8bc8-a7789aa4b5f4",
   "metadata": {},
   "source": [
    "**Importing all important libraries**"
   ]
  },
  {
   "cell_type": "code",
   "execution_count": 65,
   "id": "21d00949-a0ca-4d7a-b5d3-5df3770d22f0",
   "metadata": {},
   "outputs": [],
   "source": [
    "import json\n",
    "import numpy as np\n",
    "import pandas as pd\n",
    "import spacy\n",
    "import gensim.downloader as api  # Pre-trained Word2Vec\n",
    "from sklearn.model_selection import train_test_split\n",
    "from sklearn.ensemble import RandomForestClassifier\n",
    "from sklearn.metrics import accuracy_score, classification_report, confusion_matrix\n",
    "import matplotlib.pyplot as plt\n",
    "import seaborn as sns"
   ]
  },
  {
   "cell_type": "markdown",
   "id": "109acdde-83d7-4f8f-823a-59a11ff2e750",
   "metadata": {},
   "source": [
    "# Loading pretrained Word2Vec Model "
   ]
  },
  {
   "cell_type": "code",
   "execution_count": 67,
   "id": "6deeae29-d124-4508-9722-b6c9ed25452a",
   "metadata": {},
   "outputs": [
    {
     "name": "stdout",
     "output_type": "stream",
     "text": [
      "Loading Word2Vec model... \n",
      "Word2Vec model loaded successfully!\n"
     ]
    }
   ],
   "source": [
    "print(\"Loading Word2Vec model... \")\n",
    "word2vec_model = api.load(\"word2vec-google-news-300\")\n",
    "print(\"Word2Vec model loaded successfully!\")"
   ]
  },
  {
   "cell_type": "markdown",
   "id": "7fd2638c-95ff-4da1-9cf5-9cd85536d2f7",
   "metadata": {},
   "source": [
    "# Loading spaCy Model for Text Preprocessing-English"
   ]
  },
  {
   "cell_type": "code",
   "execution_count": 69,
   "id": "0c1bba5c-949c-4ca4-9033-7a696c991e4f",
   "metadata": {},
   "outputs": [],
   "source": [
    "nlp = spacy.load(\"en_core_web_sm\")"
   ]
  },
  {
   "cell_type": "markdown",
   "id": "d9599919-006e-4a12-acc2-866995492896",
   "metadata": {},
   "source": [
    "# Loading dataset"
   ]
  },
  {
   "cell_type": "code",
   "execution_count": 71,
   "id": "34f1d6f3-f9b9-470a-8f11-898822ed21c8",
   "metadata": {},
   "outputs": [],
   "source": [
    "file_path = \"./stories.json\"  \n",
    "with open(file_path, \"r\", encoding=\"utf-8\") as file:\n",
    "    data = json.load(file)"
   ]
  },
  {
   "cell_type": "markdown",
   "id": "17eabaa6-6570-4327-85df-2637d13d3fe6",
   "metadata": {},
   "source": [
    "# Extracting Relevant Data"
   ]
  },
  {
   "cell_type": "code",
   "execution_count": 73,
   "id": "778d372a-4a74-40f2-b080-70336aa94e5d",
   "metadata": {},
   "outputs": [],
   "source": [
    "story_data = []\n",
    "for story in data['stories']:\n",
    "    story_data.append({\n",
    "        \"index\": story[\"index\"],\n",
    "        \"text\": story[\"story\"],  \n",
    "        \"setting\": story[\"setting\"]\n",
    "    })\n",
    "df_story = pd.DataFrame(story_data)"
   ]
  },
  {
   "cell_type": "code",
   "execution_count": 74,
   "id": "2f5de030-bae2-4f83-92d3-b605c1050827",
   "metadata": {},
   "outputs": [
    {
     "data": {
      "text/html": [
       "<div>\n",
       "<style scoped>\n",
       "    .dataframe tbody tr th:only-of-type {\n",
       "        vertical-align: middle;\n",
       "    }\n",
       "\n",
       "    .dataframe tbody tr th {\n",
       "        vertical-align: top;\n",
       "    }\n",
       "\n",
       "    .dataframe thead th {\n",
       "        text-align: right;\n",
       "    }\n",
       "</style>\n",
       "<table border=\"1\" class=\"dataframe\">\n",
       "  <thead>\n",
       "    <tr style=\"text-align: right;\">\n",
       "      <th></th>\n",
       "      <th>index</th>\n",
       "      <th>text</th>\n",
       "      <th>setting</th>\n",
       "    </tr>\n",
       "  </thead>\n",
       "  <tbody>\n",
       "    <tr>\n",
       "      <th>0</th>\n",
       "      <td>0</td>\n",
       "      <td>In a reality where pillars of fire had danced ...</td>\n",
       "      <td>post-apocalyptic world</td>\n",
       "    </tr>\n",
       "    <tr>\n",
       "      <th>1</th>\n",
       "      <td>1</td>\n",
       "      <td>In an epoch characterized by towering peaks of...</td>\n",
       "      <td>outer space</td>\n",
       "    </tr>\n",
       "    <tr>\n",
       "      <th>2</th>\n",
       "      <td>2</td>\n",
       "      <td>In the midst of a quaint hamlet, nestled betwe...</td>\n",
       "      <td>small town</td>\n",
       "    </tr>\n",
       "    <tr>\n",
       "      <th>3</th>\n",
       "      <td>3</td>\n",
       "      <td>In the heart of an isolated, provincial region...</td>\n",
       "      <td>small town</td>\n",
       "    </tr>\n",
       "    <tr>\n",
       "      <th>4</th>\n",
       "      <td>4</td>\n",
       "      <td>In the pulsating heart of a bustling, steel-cl...</td>\n",
       "      <td>a modern metropolis</td>\n",
       "    </tr>\n",
       "  </tbody>\n",
       "</table>\n",
       "</div>"
      ],
      "text/plain": [
       "   index                                               text  \\\n",
       "0      0  In a reality where pillars of fire had danced ...   \n",
       "1      1  In an epoch characterized by towering peaks of...   \n",
       "2      2  In the midst of a quaint hamlet, nestled betwe...   \n",
       "3      3  In the heart of an isolated, provincial region...   \n",
       "4      4  In the pulsating heart of a bustling, steel-cl...   \n",
       "\n",
       "                  setting  \n",
       "0  post-apocalyptic world  \n",
       "1             outer space  \n",
       "2              small town  \n",
       "3              small town  \n",
       "4     a modern metropolis  "
      ]
     },
     "execution_count": 74,
     "metadata": {},
     "output_type": "execute_result"
    }
   ],
   "source": [
    "df_story.head()"
   ]
  },
  {
   "cell_type": "markdown",
   "id": "1f34febb-2ed3-4100-bb41-e20e3d214139",
   "metadata": {},
   "source": [
    "# Text Preprocessing Function"
   ]
  },
  {
   "cell_type": "code",
   "execution_count": 76,
   "id": "55822ae4-7805-4b52-9aac-7466df80e3d6",
   "metadata": {},
   "outputs": [
    {
     "name": "stdout",
     "output_type": "stream",
     "text": [
      "Words/Tokens returned\n"
     ]
    }
   ],
   "source": [
    "def preprocess_text(text):\n",
    "    \"\"\"\n",
    "    Tokenizes text, removes stop words, and returns a list of meaningful words.\n",
    "    \"\"\"\n",
    "    doc = nlp(text.lower())  # Converting to lowercase and process\n",
    "    words = [token.text for token in doc if token.is_alpha and not token.is_stop]  # Removing punctuation & stopwords\n",
    "    return words\n",
    "\n",
    "print(\"Words/Tokens returned\")"
   ]
  },
  {
   "cell_type": "markdown",
   "id": "5c2c1b05-0ba5-476b-851d-b25395cbd798",
   "metadata": {},
   "source": [
    "# Function to Get Average Word2Vec Embedding"
   ]
  },
  {
   "cell_type": "code",
   "execution_count": 78,
   "id": "07de632f-bab6-4698-ac81-d0645f950660",
   "metadata": {},
   "outputs": [
    {
     "name": "stdout",
     "output_type": "stream",
     "text": [
      "Average Embedding Computed\n"
     ]
    }
   ],
   "source": [
    "def get_average_embedding(text):\n",
    "    \"\"\"\n",
    "    Computes the average Word2Vec embedding of a given text in stories.\n",
    "    \"\"\"\n",
    "    words = preprocess_text(text)\n",
    "    word_vectors = [word2vec_model[word] for word in words if word in word2vec_model]\n",
    "    \n",
    "    if len(word_vectors) == 0:  # If no valid word embeddings are found\n",
    "        return np.zeros(300)  # Return a zero vector for mkaing it 300\n",
    "    \n",
    "    return np.mean(word_vectors, axis=0)  # Compute the average embedding\n",
    "\n",
    "print(\"Average Embedding Computed\")"
   ]
  },
  {
   "cell_type": "markdown",
   "id": "8b65efcb-1f35-4d96-99bb-dd8303074423",
   "metadata": {},
   "source": [
    "# Applying Word2Vec transformation to each story"
   ]
  },
  {
   "cell_type": "code",
   "execution_count": 80,
   "id": "99091ae6-98b8-493c-833c-3441887e2b1c",
   "metadata": {},
   "outputs": [
    {
     "name": "stderr",
     "output_type": "stream",
     "text": [
      "Processing Embeddings: 100%|██████████████████| 602/602 [00:28<00:00, 21.17it/s]"
     ]
    },
    {
     "name": "stdout",
     "output_type": "stream",
     "text": [
      "Embedding Computation Completed!\n"
     ]
    },
    {
     "name": "stderr",
     "output_type": "stream",
     "text": [
      "\n"
     ]
    }
   ],
   "source": [
    "from tqdm import tqdm\n",
    "# Enable tqdm for pandas apply\n",
    "tqdm.pandas(desc=\"Processing Embeddings\")\n",
    "\n",
    "# Apply function\n",
    "df_story[\"embedding\"] = df_story[\"text\"].progress_apply(get_average_embedding)\n",
    "#df_story[\"embedding\"] = df_story[\"text\"].get_average_embedding)\n",
    "\n",
    "print(\"Embedding Computation Completed!\")"
   ]
  },
  {
   "cell_type": "code",
   "execution_count": 81,
   "id": "0e3d0cbd-8185-4920-9e04-b8cc9a7c266c",
   "metadata": {},
   "outputs": [
    {
     "name": "stdout",
     "output_type": "stream",
     "text": [
      "(300,)\n"
     ]
    }
   ],
   "source": [
    "# Checking shape of the first embedding\n",
    "print(df_story[\"embedding\"].iloc[0].shape)"
   ]
  },
  {
   "cell_type": "code",
   "execution_count": 82,
   "id": "cf614c60-1d71-4962-9344-593bd958957a",
   "metadata": {
    "scrolled": true
   },
   "outputs": [
    {
     "name": "stdout",
     "output_type": "stream",
     "text": [
      "embedding\n",
      "[0.1109717, 0.11191801, 0.023188343, 0.04733856, -0.06494149, -0.027535627, 0.041831885, -0.11917954, 0.096411616, 0.13919921, -0.0011543471, -0.11613629, -0.012416714, 0.07125913, -0.05771521, 0.057971366, 0.014580076, 0.113177225, 0.00079390133, -0.069498606, -0.024580834, 0.09039098, 0.014402734, -0.03603894, 0.015270939, -0.08753262, -0.07545273, 0.033107672, 0.03694958, -0.09405155, -0.015100084, -0.032697402, -0.027733892, 0.020897213, -0.02066792, -0.046365343, 0.04683567, 9.681265e-05, 0.019027442, 0.07050799, 0.07883981, -0.0703288, 0.09285565, -0.04048305, 0.04232731, -0.049588326, -0.090250865, 0.026044736, 0.04951878, 0.047399916, -0.025324516, 0.051400542, -0.021395713, -0.0067980257, 0.01573136, 0.019515008, -0.056897502, -0.1113336, -0.021633467, -0.05742998, -0.026932703, 0.08190338, -0.00864696, -0.09743053, -0.036730174, -0.014419556, -0.038156617, 0.077578776, -0.07190463, 0.02868244, -0.013715744, -0.016839048, 0.048832808, -0.047503475, -0.18017362, -0.07515656, 0.046925474, -0.016529722, 0.029088067, 0.021243125, 0.051228393, -0.01972854, 0.0062663094, -0.09573613, -0.042113055, 0.021569066, -0.07422856, 0.031028176, -0.004366837, 0.0729742, -0.0044519533, -0.03837315, -0.043878093, 0.045890506, -0.067562096, -0.005922847, 0.05363599, -0.018368373, -0.03509498, -0.11898733, ...]         1\n",
      "[0.094238006, 0.086026035, 0.03447362, 0.072364114, -0.09118032, 0.0040805577, 0.093473956, -0.12860462, 0.068845905, 0.13477434, -0.03409885, -0.10691344, -0.045957375, 0.05499399, -0.06796096, 0.087094665, 0.042227622, 0.12799495, 0.036501158, -0.041168652, -0.037515268, 0.047681708, -0.012672352, -0.013988677, 0.044924576, -0.082796365, -0.05703531, 0.06742085, -0.0028334623, -0.112769514, -0.05815336, -0.0208181, -0.02906259, 0.07404389, -0.010600112, -0.044956446, 0.06598214, -0.03367957, 0.07183042, 0.04022695, 0.07003813, -0.018696507, 0.079750754, -0.012451026, 0.048275825, -0.07459442, -0.07245535, 0.040978372, 0.05700472, 0.03256576, -0.078763366, 0.01895054, -0.05413518, -0.03020366, 0.025735883, 0.036055617, -0.022793857, -0.15575008, -0.020514825, -0.02710536, 0.0003769432, 0.07741393, 0.035440836, -0.09683357, -0.05946226, -0.017040467, -0.06866382, 0.074989736, -0.045906194, 0.024310216, 0.013978146, -0.040876545, 0.048403878, -0.04913916, -0.14140758, -0.09302963, 0.04358925, -0.00056844467, 0.0050708917, 0.031840727, 0.050070714, -0.0050128363, 0.007987721, -0.08268238, -0.03383307, 0.010646546, -0.044325907, 0.050577402, 0.050020892, 0.06251676, -0.0075762304, -0.048683897, -0.051325567, 0.010597265, -0.021451157, 0.007306332, 0.037400123, -0.038596924, -0.0022385155, -0.13601772, ...]      1\n",
      "[0.08425564, 0.054844085, 0.019971875, 0.017436815, -0.08910984, 0.005291114, 0.060377847, -0.04354301, 0.08037737, 0.14117293, -0.040805634, -0.10019216, -0.010373839, 0.05539404, -0.102305114, 0.08431159, 0.006896051, 0.10564124, 0.009175397, -0.05526011, 0.0011995841, 0.083315514, 0.014753828, -0.01664581, 0.04799642, -0.059139602, -0.03711271, 0.044200365, 0.025961006, -0.06216626, -0.023588318, -0.0319271, -0.021478578, 0.046164628, -0.015189213, -0.032308903, 0.05896265, 0.0012810011, 0.01781659, 0.05441063, 0.058482885, -0.03645509, 0.054653075, -0.024559053, 0.0341073, -0.028958658, -0.08729307, 0.010374382, 0.027286032, 0.030045625, -0.03948372, 0.031336144, -0.009795497, -0.024422042, 0.010542413, 0.047582272, -0.04183289, -0.13300261, -0.0048287157, -0.047081556, -0.008674539, 0.056660667, -0.035879754, -0.059670784, -0.019144693, -0.0046304665, -0.07452959, 0.082375966, -0.015135097, 0.024490485, 0.013748846, -0.0016304421, 0.07581901, -0.046056647, -0.1373215, -0.035229497, 0.071366206, 0.07293981, 0.029484255, 0.061763614, 0.028487146, -0.011061074, -0.019555705, -0.0615321, -0.03443777, -0.0085075395, -0.070604704, 0.017921485, 0.022518545, 0.057293437, 0.03153789, -0.030871332, -0.048996985, 0.013399778, -0.043657348, -0.0027052285, 0.04588645, -0.030426929, 0.0100813415, -0.09624286, ...]    1\n",
      "[0.10537828, 0.09929419, 0.041948877, 0.04152129, -0.07453857, 0.0046127248, 0.084079385, -0.13069083, 0.06696284, 0.14921999, -0.042577185, -0.107245624, -0.0380366, 0.036214873, -0.06850656, 0.07842541, 0.02545919, 0.1209272, 0.01752703, -0.091636516, 0.009676781, 0.052347362, 0.028072506, -0.03139881, 0.030822182, -0.05136022, -0.043043442, 0.060632307, 0.06135912, -0.09037464, -0.049986426, -0.016008835, -0.027963746, 0.057503395, -0.006180601, -0.041256957, 0.050802227, -0.033208974, 0.010881837, 0.073453434, 0.07155918, -0.07365259, 0.10832031, -0.04058712, 0.038234062, -0.061608154, -0.06793168, 0.015961593, 0.07679587, 0.03339313, -0.07328804, 0.056654554, -0.026685463, 0.0038248277, 0.020983426, 0.013325174, -0.026622197, -0.13689974, -0.02836868, -0.044115372, -0.004957253, 0.062362257, 0.018107163, -0.09636954, -0.034037896, -0.019940125, -0.045393676, 0.03999597, -0.07712303, 0.03909579, 0.018207574, -0.009457002, 0.061474837, -0.02847585, -0.15528992, -0.06276584, 0.07756238, 0.02101031, 0.014765919, 0.047343846, 0.0839028, -0.0023745568, -0.020790935, -0.1090979, -0.02152317, 0.03149856, -0.065935954, 0.01187961, 0.020053748, 0.060592975, -0.003715713, -0.039522532, -0.044248924, 0.022455683, -0.0435054, -0.0004409889, 0.064678155, -0.036598332, 0.014925543, -0.10532885, ...]                    1\n",
      "[0.07463007, 0.09558227, 0.0037273495, 0.041228577, -0.072748706, -0.022097327, 0.075911954, -0.06791971, 0.13182853, 0.111984946, -0.03409984, -0.13204099, 0.015631588, 0.06251474, -0.049381603, 0.07608154, 0.04091471, 0.12330809, 0.01556934, -0.09321213, 0.0009881366, 0.053352877, -0.017626189, 0.008196484, 0.005081155, -0.07526559, -0.05342475, 0.013123426, -0.011448372, -0.053971626, -0.026192838, -0.05052471, -0.0023536682, 0.07336528, 0.026485898, -0.013280636, 0.0583897, -0.013949525, 0.030079257, 0.012644345, 0.100248404, 0.0025599652, 0.02883211, -0.050403073, 0.007548332, -0.05326245, -0.0661249, 0.03693646, 0.019340126, -0.010908409, -0.0589571, 0.042569593, -0.025779117, -0.024564417, 0.015207573, 0.032203004, -0.052173745, -0.11511388, -0.0025574618, -0.08190259, -0.005727941, 0.08584273, -0.0076639433, -0.06194496, -0.016900105, -0.019669902, -0.05361336, 0.09308724, -0.047366574, 0.002397017, 0.016905107, -0.018614681, 0.047342908, -0.013186975, -0.10566911, -0.04344975, 0.05723703, 0.061200097, 0.05329909, 0.08885193, 0.02277097, -0.010463541, -0.00024214658, -0.07085791, -0.036892023, -0.035378203, -0.08215917, 0.041669846, 0.024562836, 0.07844736, 0.060458444, -0.08002663, -0.022281956, 0.018823711, -0.018931085, -0.06298139, 0.04762485, 0.0074533983, -0.021597255, -0.08385933, ...]         1\n",
      "                                                                                                                                                                                                                                                                                                                                                                                                                                                                                                                                                                                                                                                                                                                                                                                                                                                                                                                                                                                                                                                                                                                                                                                                                                                                                                                                                                                 ..\n",
      "[0.070783876, 0.07724879, 0.016092455, 0.0071283975, -0.03140901, -0.03875931, 0.05005931, -0.061980404, 0.116484545, 0.13203695, -0.0015026127, -0.08664786, -0.018282186, 0.06696695, -0.06943311, 0.07561581, 0.023039775, 0.070824735, 0.023251748, -0.053301975, -0.0032177316, 0.036613807, 0.023686405, -0.017162323, 0.042523712, -0.07239323, -0.044237636, 0.06348622, 0.030171575, -0.042710632, -0.007976085, -0.04495473, -0.026519844, 0.067550786, 0.019320093, -0.009420618, 0.06114604, 0.017309515, 0.029235084, 0.06799344, 0.058751322, -0.049216054, 0.08250286, -0.0408172, 0.02861608, -0.036391113, -0.09115671, 0.03002421, -0.0110131595, 0.04930699, -0.013242584, 0.012917046, -0.02688908, -0.028881244, -0.009172182, 0.03511111, -0.070356816, -0.12180323, -0.012132812, -0.062490936, -0.01866179, 0.096295424, -0.03443455, -0.061599974, -0.02149874, -0.006394601, -0.034320608, 0.058091097, -0.02493367, 0.0081290165, 0.027457397, 0.025325587, 0.060936797, -0.0012971571, -0.13856244, -0.014636186, 0.046597008, 0.06227957, 0.03643412, 0.051115844, 0.020316586, -0.024913132, 0.032781217, -0.043991257, -0.030858994, -0.035068225, -0.08512253, 0.06532635, 0.028438628, 0.036515176, 0.042896856, -0.031717937, -0.03440222, 0.01375518, -0.068426915, 0.009053411, 0.030764606, 0.008165187, 0.039755143, -0.1080984, ...]       1\n",
      "[0.063196816, 0.064151675, 0.037663143, 0.076920286, -0.056453116, -0.015417735, 0.07239796, -0.08465589, 0.07860919, 0.08473691, -0.059453875, -0.10765718, -0.023947533, 0.032690957, -0.076915674, 0.11123135, 0.024930647, 0.11291558, 0.031480018, -0.04024869, -0.004776546, 0.04413128, -0.028141022, -0.006395181, 0.030518243, -0.037730534, -0.028946975, 0.091663994, 0.035270963, -0.06141824, -0.020026479, -0.038415637, -0.018668674, 0.05804993, -0.014819227, -0.009360313, 0.057512466, -0.036781788, 0.03710118, 0.05351793, 0.07396253, -0.021838415, 0.053577606, -0.011969794, 0.02174836, -0.06579808, -0.06021939, 0.024865106, 0.029440073, 0.010231381, -0.06864014, 0.03968206, -0.07609272, 0.00061586924, 0.029111408, 0.059071723, -0.037453834, -0.16197912, 0.0020961761, -0.055575233, 0.03466915, 0.06889952, 0.0039622444, -0.09265114, -0.0010543778, -0.011579786, -0.04967434, 0.099965416, -0.0047431984, 0.016887302, 0.0015636625, -0.011092095, 0.062089045, 0.006411825, -0.10044829, -0.09709876, 0.035020668, 0.037285667, 0.022139322, 0.08045578, 0.052076135, -0.013421899, 0.0062453975, -0.0471656, -0.04078579, -0.025260732, -0.07438542, 0.046898276, 0.027245034, 0.07484999, 0.043860298, -0.06860397, -0.052633233, -0.04380226, -0.022711493, -0.012959038, 0.039832253, -0.03286298, 0.0467542, -0.07647869, ...]       1\n",
      "[0.049822588, 0.024238167, 0.033800397, 0.018169591, -0.12514731, -0.031575717, 0.057571117, -0.09595603, 0.08395819, 0.08069175, -0.01737188, -0.11396414, -0.009208721, 0.03826873, -0.056536254, 0.07183964, -0.0007232834, 0.14858884, 0.006396535, -0.10217872, -0.018527187, 0.07340228, -0.022014294, -0.015513546, -0.015835626, -0.06951766, -0.060941905, 0.047458734, 0.02712711, -0.055852335, -0.07756904, -0.04997329, -0.02006427, 0.015671918, -0.002622353, -0.049187463, 0.032998223, -0.0040940978, 0.04787994, 0.04360065, 0.038472585, -0.0065800175, 0.06628129, 0.00012298206, 0.047416266, -0.06422257, -0.06600061, 0.016831052, 0.03551655, 0.025713826, -0.05665842, -0.023705242, -0.021901581, -0.031009275, 0.032500047, 0.053612176, -0.03060016, -0.11721699, 0.0013181036, -0.047318846, 0.0005149108, 0.0387592, -0.0027627212, -0.06333121, -0.051810294, -0.0050338074, -0.06405799, 0.103970245, -0.031842202, 0.01828418, -0.0066023045, -0.049208693, 0.09195609, -0.03583929, -0.17049475, -0.065690175, 0.090370096, 0.028874533, 0.04250097, 0.04614115, 0.05958928, -0.012622749, 0.06825512, -0.043155797, -0.015164732, 0.00655725, -0.078331605, 0.04655314, 0.033622827, 0.080111496, 0.0049988884, -0.055067, -0.049020536, 0.020686055, -0.057624396, -0.019208133, 0.045952324, -0.0212399, 0.036989085, -0.098830506, ...]     1\n",
      "[0.094004355, 0.09493352, 0.046034716, 0.03476601, -0.08911745, -0.029100528, 0.113314, -0.13735193, 0.052841265, 0.14552526, -0.05875662, -0.10481034, -0.035560697, 0.036509722, -0.05347982, 0.086169414, 0.019196082, 0.1598958, 0.022930017, -0.038871013, -0.050134066, 0.07470466, -0.02590425, -0.04974716, 0.024103379, -0.08872986, -0.083560474, 0.065989874, 0.03652384, -0.10145643, -0.077193074, -0.027296877, -0.040990327, 0.04210985, -0.07030908, -0.027072512, 0.042185333, -0.06673028, 0.0338967, 0.062462818, 0.08561553, -0.026824184, 0.04835493, -0.01290158, 0.057238173, -0.068915114, -0.04638709, 0.031214023, 0.06563213, 0.007440852, -0.04770871, 0.060099896, -0.013843641, -0.0027704637, 0.0060181017, 0.03949027, -0.01854309, -0.12828468, -0.009155822, -0.043743044, -0.0049427734, 0.065488264, 0.040947903, -0.08264195, -0.04004277, -0.014909602, -0.07447839, 0.039191935, -0.02610781, 0.051087216, 0.016274419, -0.04816395, 0.060845297, -0.011171516, -0.16140327, -0.09629278, 0.057108298, 0.008197401, -0.0066673453, 0.08246448, 0.076794945, -0.006508794, 0.039097533, -0.12861466, -0.05950097, 0.011050433, -0.060891777, 0.047481097, 0.03267994, 0.07831729, -0.013094957, -0.057601053, -0.05521235, 0.0059618894, -0.07046356, 0.0036354065, 0.07445612, -0.0145903835, 0.017518625, -0.1435425, ...]                1\n",
      "[0.07369704, 0.08545333, 0.04077037, 0.026500165, -0.100064054, -0.072608285, 0.05314795, -0.08949906, 0.08872506, 0.1457344, -0.041137524, -0.1136729, -0.043428827, 0.05784294, -0.035112146, 0.072780564, 0.05207842, 0.14020191, 0.012952057, -0.028549306, -0.03145848, 0.10849865, 0.0060609323, -0.012409853, 0.030151196, -0.06828582, -0.0454282, 0.050502006, 0.04239796, -0.056390654, -0.04384553, -0.039039396, -0.05205005, 0.0006184096, 0.011849221, -0.055470586, 0.039698087, -0.03075949, 0.0041119866, 0.093947805, 0.05020615, -0.07239108, 0.10412495, -0.03323883, 0.042642474, -0.03632706, -0.111233614, 0.012422278, 0.03390653, 0.04264433, -0.054096945, 0.021002866, -0.037303153, 0.027776139, 0.021959627, 0.032409884, -0.06288815, -0.102435574, -0.018420445, -0.07687011, -0.013682333, 0.07211086, -0.021375528, -0.08194013, -0.023321517, 0.0043981583, -0.098809235, 0.034556355, -0.023739312, 0.021391965, 0.0035705566, -0.036549438, 0.07780139, 0.0137666855, -0.14473647, -0.10065475, 0.048182283, 0.020514242, 0.045191754, 0.10041655, 0.058051754, -0.017556245, 0.016281128, -0.0635958, -0.021378485, 0.02254096, -0.09219082, 0.074310906, -0.0067600934, 0.06660016, 0.00801305, -0.00523639, -0.038420614, 0.0040452937, -0.06883437, -0.050527852, 0.040056337, 0.022897612, -0.036514197, -0.11757636, ...]               1\n",
      "Name: count, Length: 602, dtype: int64\n"
     ]
    }
   ],
   "source": [
    "# Checking all embeddings have the same shape\n",
    "df_story[\"embedding\"] = df_story[\"embedding\"].apply(lambda x: x if isinstance(x, np.ndarray) and x.shape == (300,) else np.zeros(300))\n",
    "\n",
    "# Count unique shapes\n",
    "print(df_story[\"embedding\"].value_counts()) "
   ]
  },
  {
   "cell_type": "code",
   "execution_count": 83,
   "id": "439078ea-519f-4051-9d28-5aa3049b9edc",
   "metadata": {},
   "outputs": [
    {
     "name": "stdout",
     "output_type": "stream",
     "text": [
      "Total missing embeddings: 0\n",
      "Shape of feature matrix X: (602, 300)\n"
     ]
    }
   ],
   "source": [
    "# Debugging for missing embeddings\n",
    "print(f\"Total missing embeddings: {df_story['embedding'].apply(lambda x: np.all(x == 0)).sum()}\")\n",
    "\n",
    "# Convert list of embeddings into a NumPy array\n",
    "X = np.vstack(df_story[\"embedding\"].values)\n",
    "\n",
    "# Printing shape to confirm correct size\n",
    "print(f\"Shape of feature matrix X: {X.shape}\")"
   ]
  },
  {
   "cell_type": "markdown",
   "id": "83c3e8d1-fd35-4b9a-b6e0-1649c37bc7e0",
   "metadata": {},
   "source": [
    "# Convert categorical target variable \"setting\" into numerical labels"
   ]
  },
  {
   "cell_type": "code",
   "execution_count": 85,
   "id": "c92117e5-1c43-4c65-860d-b4e16e2d9e66",
   "metadata": {},
   "outputs": [],
   "source": [
    "label_mapping = {\n",
    "    \"post-apocalyptic world\": 0,\n",
    "    \"small town\": 1,\n",
    "    \"outer space\": 2,\n",
    "    \"ancient civilisation\": 3,\n",
    "    \"a modern metropolis\": 4\n",
    "}\n",
    "df_story[\"setting_label\"] = df_story[\"setting\"].map(label_mapping)\n",
    "\n",
    "# Remove rows where \"setting_label\" is NaN **before extracting y**\n",
    "df_story = df_story.dropna(subset=[\"setting_label\"])  # Removes rows with missing labels"
   ]
  },
  {
   "cell_type": "code",
   "execution_count": null,
   "id": "99fcae5e-461b-4e49-8907-e2328ca86e6c",
   "metadata": {},
   "outputs": [],
   "source": []
  },
  {
   "cell_type": "code",
   "execution_count": null,
   "id": "b36811fe-13ce-4b5b-a744-bd72b26f42ea",
   "metadata": {},
   "outputs": [],
   "source": []
  },
  {
   "cell_type": "markdown",
   "id": "d314afd3-7c00-40d8-9275-7d2552638b50",
   "metadata": {},
   "source": [
    "# Checking how many samples are remaining and Unique labels"
   ]
  },
  {
   "cell_type": "code",
   "execution_count": 87,
   "id": "a5803909-aa0d-45a2-bc7a-bd4c4513f1e2",
   "metadata": {},
   "outputs": [
    {
     "data": {
      "text/plain": [
       "0"
      ]
     },
     "execution_count": 87,
     "metadata": {},
     "output_type": "execute_result"
    }
   ],
   "source": [
    "df_story[\"setting_label\"][11]"
   ]
  },
  {
   "cell_type": "code",
   "execution_count": 88,
   "id": "57e7ba21-7a80-4477-bc91-98e641d87f95",
   "metadata": {},
   "outputs": [
    {
     "name": "stdout",
     "output_type": "stream",
     "text": [
      "Total valid samples: 602\n",
      "Unique labels in y: [0 1 2 3 4]\n"
     ]
    }
   ],
   "source": [
    "print(f\"Total valid samples: {df_story.shape[0]}\")\n",
    "\n",
    "# Extract target variable\n",
    "y = df_story[\"setting_label\"].values\n",
    "\n",
    "# Print unique values in y to ensure labels exist\n",
    "print(f\"Unique labels in y: {np.unique(y)}\")"
   ]
  },
  {
   "cell_type": "markdown",
   "id": "a942c03f-a861-4a10-98ae-0814c354f680",
   "metadata": {},
   "source": [
    "# Splitting dataset set into training and Testing data"
   ]
  },
  {
   "cell_type": "code",
   "execution_count": 90,
   "id": "89a80e36-e3dd-4415-bb25-4dd0b542b8f9",
   "metadata": {},
   "outputs": [],
   "source": [
    "# --- Train-Test Split (80%-20%) ---\n",
    "#X_train, X_test, y_train, y_test = train_test_split(X, y, test_size=0.2, random_state=42, stratify=y)\n",
    "\n",
    "# train_indices and test_indices for use in section 2.2\n",
    "# Train-Test Split (80%-20% respectively)\n",
    "train_indices, test_indices, X_train, X_test, y_train, y_test = train_test_split(\n",
    "    df_story.index, X, y, test_size=0.2, random_state=40457510, stratify=y\n",
    ")"
   ]
  },
  {
   "cell_type": "code",
   "execution_count": 91,
   "id": "0d272248-badd-475e-84e2-52339210779b",
   "metadata": {},
   "outputs": [
    {
     "name": "stdout",
     "output_type": "stream",
     "text": [
      "Index([537, 131, 316, 265, 297,  89, 550,  63, 154, 536,\n",
      "       ...\n",
      "       463, 360, 162, 124,   2,  82, 160,   5, 470, 107],\n",
      "      dtype='int64', length=481)\n"
     ]
    }
   ],
   "source": [
    "print(train_indices)"
   ]
  },
  {
   "cell_type": "code",
   "execution_count": 92,
   "id": "a338f4a6-aef3-4bde-9508-ae4e1438b50c",
   "metadata": {},
   "outputs": [
    {
     "name": "stdout",
     "output_type": "stream",
     "text": [
      "Index([404,  37, 492, 335, 251, 573,  91, 191, 571, 302,\n",
      "       ...\n",
      "        95, 491, 215, 480, 246, 326, 192, 109, 257, 344],\n",
      "      dtype='int64', length=121)\n"
     ]
    }
   ],
   "source": [
    "print(test_indices)"
   ]
  },
  {
   "cell_type": "markdown",
   "id": "28599468-9595-4fef-9bec-4117712bc534",
   "metadata": {},
   "source": [
    "# Training the RandomForest Classifier "
   ]
  },
  {
   "cell_type": "code",
   "execution_count": 94,
   "id": "3f173a24-6b6b-4429-b2b9-0475c0949f10",
   "metadata": {},
   "outputs": [
    {
     "name": "stdout",
     "output_type": "stream",
     "text": [
      "Total Stories: 602\n",
      "Train Indices Count: 481\n",
      "Test Indices Count: 121\n"
     ]
    }
   ],
   "source": [
    "# Print the dataset split counts\n",
    "print(f\"Total Stories: {len(df_story)}\")  # Should be 602\n",
    "print(f\"Train Indices Count: {len(train_indices)}\")  # Expected 481\n",
    "print(f\"Test Indices Count: {len(test_indices)}\")  # Expected 121"
   ]
  },
  {
   "cell_type": "code",
   "execution_count": 95,
   "id": "7d1a0ede-b79b-4a5d-8d0a-93b8a3883197",
   "metadata": {},
   "outputs": [
    {
     "data": {
      "text/html": [
       "<style>#sk-container-id-2 {\n",
       "  /* Definition of color scheme common for light and dark mode */\n",
       "  --sklearn-color-text: #000;\n",
       "  --sklearn-color-text-muted: #666;\n",
       "  --sklearn-color-line: gray;\n",
       "  /* Definition of color scheme for unfitted estimators */\n",
       "  --sklearn-color-unfitted-level-0: #fff5e6;\n",
       "  --sklearn-color-unfitted-level-1: #f6e4d2;\n",
       "  --sklearn-color-unfitted-level-2: #ffe0b3;\n",
       "  --sklearn-color-unfitted-level-3: chocolate;\n",
       "  /* Definition of color scheme for fitted estimators */\n",
       "  --sklearn-color-fitted-level-0: #f0f8ff;\n",
       "  --sklearn-color-fitted-level-1: #d4ebff;\n",
       "  --sklearn-color-fitted-level-2: #b3dbfd;\n",
       "  --sklearn-color-fitted-level-3: cornflowerblue;\n",
       "\n",
       "  /* Specific color for light theme */\n",
       "  --sklearn-color-text-on-default-background: var(--sg-text-color, var(--theme-code-foreground, var(--jp-content-font-color1, black)));\n",
       "  --sklearn-color-background: var(--sg-background-color, var(--theme-background, var(--jp-layout-color0, white)));\n",
       "  --sklearn-color-border-box: var(--sg-text-color, var(--theme-code-foreground, var(--jp-content-font-color1, black)));\n",
       "  --sklearn-color-icon: #696969;\n",
       "\n",
       "  @media (prefers-color-scheme: dark) {\n",
       "    /* Redefinition of color scheme for dark theme */\n",
       "    --sklearn-color-text-on-default-background: var(--sg-text-color, var(--theme-code-foreground, var(--jp-content-font-color1, white)));\n",
       "    --sklearn-color-background: var(--sg-background-color, var(--theme-background, var(--jp-layout-color0, #111)));\n",
       "    --sklearn-color-border-box: var(--sg-text-color, var(--theme-code-foreground, var(--jp-content-font-color1, white)));\n",
       "    --sklearn-color-icon: #878787;\n",
       "  }\n",
       "}\n",
       "\n",
       "#sk-container-id-2 {\n",
       "  color: var(--sklearn-color-text);\n",
       "}\n",
       "\n",
       "#sk-container-id-2 pre {\n",
       "  padding: 0;\n",
       "}\n",
       "\n",
       "#sk-container-id-2 input.sk-hidden--visually {\n",
       "  border: 0;\n",
       "  clip: rect(1px 1px 1px 1px);\n",
       "  clip: rect(1px, 1px, 1px, 1px);\n",
       "  height: 1px;\n",
       "  margin: -1px;\n",
       "  overflow: hidden;\n",
       "  padding: 0;\n",
       "  position: absolute;\n",
       "  width: 1px;\n",
       "}\n",
       "\n",
       "#sk-container-id-2 div.sk-dashed-wrapped {\n",
       "  border: 1px dashed var(--sklearn-color-line);\n",
       "  margin: 0 0.4em 0.5em 0.4em;\n",
       "  box-sizing: border-box;\n",
       "  padding-bottom: 0.4em;\n",
       "  background-color: var(--sklearn-color-background);\n",
       "}\n",
       "\n",
       "#sk-container-id-2 div.sk-container {\n",
       "  /* jupyter's `normalize.less` sets `[hidden] { display: none; }`\n",
       "     but bootstrap.min.css set `[hidden] { display: none !important; }`\n",
       "     so we also need the `!important` here to be able to override the\n",
       "     default hidden behavior on the sphinx rendered scikit-learn.org.\n",
       "     See: https://github.com/scikit-learn/scikit-learn/issues/21755 */\n",
       "  display: inline-block !important;\n",
       "  position: relative;\n",
       "}\n",
       "\n",
       "#sk-container-id-2 div.sk-text-repr-fallback {\n",
       "  display: none;\n",
       "}\n",
       "\n",
       "div.sk-parallel-item,\n",
       "div.sk-serial,\n",
       "div.sk-item {\n",
       "  /* draw centered vertical line to link estimators */\n",
       "  background-image: linear-gradient(var(--sklearn-color-text-on-default-background), var(--sklearn-color-text-on-default-background));\n",
       "  background-size: 2px 100%;\n",
       "  background-repeat: no-repeat;\n",
       "  background-position: center center;\n",
       "}\n",
       "\n",
       "/* Parallel-specific style estimator block */\n",
       "\n",
       "#sk-container-id-2 div.sk-parallel-item::after {\n",
       "  content: \"\";\n",
       "  width: 100%;\n",
       "  border-bottom: 2px solid var(--sklearn-color-text-on-default-background);\n",
       "  flex-grow: 1;\n",
       "}\n",
       "\n",
       "#sk-container-id-2 div.sk-parallel {\n",
       "  display: flex;\n",
       "  align-items: stretch;\n",
       "  justify-content: center;\n",
       "  background-color: var(--sklearn-color-background);\n",
       "  position: relative;\n",
       "}\n",
       "\n",
       "#sk-container-id-2 div.sk-parallel-item {\n",
       "  display: flex;\n",
       "  flex-direction: column;\n",
       "}\n",
       "\n",
       "#sk-container-id-2 div.sk-parallel-item:first-child::after {\n",
       "  align-self: flex-end;\n",
       "  width: 50%;\n",
       "}\n",
       "\n",
       "#sk-container-id-2 div.sk-parallel-item:last-child::after {\n",
       "  align-self: flex-start;\n",
       "  width: 50%;\n",
       "}\n",
       "\n",
       "#sk-container-id-2 div.sk-parallel-item:only-child::after {\n",
       "  width: 0;\n",
       "}\n",
       "\n",
       "/* Serial-specific style estimator block */\n",
       "\n",
       "#sk-container-id-2 div.sk-serial {\n",
       "  display: flex;\n",
       "  flex-direction: column;\n",
       "  align-items: center;\n",
       "  background-color: var(--sklearn-color-background);\n",
       "  padding-right: 1em;\n",
       "  padding-left: 1em;\n",
       "}\n",
       "\n",
       "\n",
       "/* Toggleable style: style used for estimator/Pipeline/ColumnTransformer box that is\n",
       "clickable and can be expanded/collapsed.\n",
       "- Pipeline and ColumnTransformer use this feature and define the default style\n",
       "- Estimators will overwrite some part of the style using the `sk-estimator` class\n",
       "*/\n",
       "\n",
       "/* Pipeline and ColumnTransformer style (default) */\n",
       "\n",
       "#sk-container-id-2 div.sk-toggleable {\n",
       "  /* Default theme specific background. It is overwritten whether we have a\n",
       "  specific estimator or a Pipeline/ColumnTransformer */\n",
       "  background-color: var(--sklearn-color-background);\n",
       "}\n",
       "\n",
       "/* Toggleable label */\n",
       "#sk-container-id-2 label.sk-toggleable__label {\n",
       "  cursor: pointer;\n",
       "  display: flex;\n",
       "  width: 100%;\n",
       "  margin-bottom: 0;\n",
       "  padding: 0.5em;\n",
       "  box-sizing: border-box;\n",
       "  text-align: center;\n",
       "  align-items: start;\n",
       "  justify-content: space-between;\n",
       "  gap: 0.5em;\n",
       "}\n",
       "\n",
       "#sk-container-id-2 label.sk-toggleable__label .caption {\n",
       "  font-size: 0.6rem;\n",
       "  font-weight: lighter;\n",
       "  color: var(--sklearn-color-text-muted);\n",
       "}\n",
       "\n",
       "#sk-container-id-2 label.sk-toggleable__label-arrow:before {\n",
       "  /* Arrow on the left of the label */\n",
       "  content: \"▸\";\n",
       "  float: left;\n",
       "  margin-right: 0.25em;\n",
       "  color: var(--sklearn-color-icon);\n",
       "}\n",
       "\n",
       "#sk-container-id-2 label.sk-toggleable__label-arrow:hover:before {\n",
       "  color: var(--sklearn-color-text);\n",
       "}\n",
       "\n",
       "/* Toggleable content - dropdown */\n",
       "\n",
       "#sk-container-id-2 div.sk-toggleable__content {\n",
       "  max-height: 0;\n",
       "  max-width: 0;\n",
       "  overflow: hidden;\n",
       "  text-align: left;\n",
       "  /* unfitted */\n",
       "  background-color: var(--sklearn-color-unfitted-level-0);\n",
       "}\n",
       "\n",
       "#sk-container-id-2 div.sk-toggleable__content.fitted {\n",
       "  /* fitted */\n",
       "  background-color: var(--sklearn-color-fitted-level-0);\n",
       "}\n",
       "\n",
       "#sk-container-id-2 div.sk-toggleable__content pre {\n",
       "  margin: 0.2em;\n",
       "  border-radius: 0.25em;\n",
       "  color: var(--sklearn-color-text);\n",
       "  /* unfitted */\n",
       "  background-color: var(--sklearn-color-unfitted-level-0);\n",
       "}\n",
       "\n",
       "#sk-container-id-2 div.sk-toggleable__content.fitted pre {\n",
       "  /* unfitted */\n",
       "  background-color: var(--sklearn-color-fitted-level-0);\n",
       "}\n",
       "\n",
       "#sk-container-id-2 input.sk-toggleable__control:checked~div.sk-toggleable__content {\n",
       "  /* Expand drop-down */\n",
       "  max-height: 200px;\n",
       "  max-width: 100%;\n",
       "  overflow: auto;\n",
       "}\n",
       "\n",
       "#sk-container-id-2 input.sk-toggleable__control:checked~label.sk-toggleable__label-arrow:before {\n",
       "  content: \"▾\";\n",
       "}\n",
       "\n",
       "/* Pipeline/ColumnTransformer-specific style */\n",
       "\n",
       "#sk-container-id-2 div.sk-label input.sk-toggleable__control:checked~label.sk-toggleable__label {\n",
       "  color: var(--sklearn-color-text);\n",
       "  background-color: var(--sklearn-color-unfitted-level-2);\n",
       "}\n",
       "\n",
       "#sk-container-id-2 div.sk-label.fitted input.sk-toggleable__control:checked~label.sk-toggleable__label {\n",
       "  background-color: var(--sklearn-color-fitted-level-2);\n",
       "}\n",
       "\n",
       "/* Estimator-specific style */\n",
       "\n",
       "/* Colorize estimator box */\n",
       "#sk-container-id-2 div.sk-estimator input.sk-toggleable__control:checked~label.sk-toggleable__label {\n",
       "  /* unfitted */\n",
       "  background-color: var(--sklearn-color-unfitted-level-2);\n",
       "}\n",
       "\n",
       "#sk-container-id-2 div.sk-estimator.fitted input.sk-toggleable__control:checked~label.sk-toggleable__label {\n",
       "  /* fitted */\n",
       "  background-color: var(--sklearn-color-fitted-level-2);\n",
       "}\n",
       "\n",
       "#sk-container-id-2 div.sk-label label.sk-toggleable__label,\n",
       "#sk-container-id-2 div.sk-label label {\n",
       "  /* The background is the default theme color */\n",
       "  color: var(--sklearn-color-text-on-default-background);\n",
       "}\n",
       "\n",
       "/* On hover, darken the color of the background */\n",
       "#sk-container-id-2 div.sk-label:hover label.sk-toggleable__label {\n",
       "  color: var(--sklearn-color-text);\n",
       "  background-color: var(--sklearn-color-unfitted-level-2);\n",
       "}\n",
       "\n",
       "/* Label box, darken color on hover, fitted */\n",
       "#sk-container-id-2 div.sk-label.fitted:hover label.sk-toggleable__label.fitted {\n",
       "  color: var(--sklearn-color-text);\n",
       "  background-color: var(--sklearn-color-fitted-level-2);\n",
       "}\n",
       "\n",
       "/* Estimator label */\n",
       "\n",
       "#sk-container-id-2 div.sk-label label {\n",
       "  font-family: monospace;\n",
       "  font-weight: bold;\n",
       "  display: inline-block;\n",
       "  line-height: 1.2em;\n",
       "}\n",
       "\n",
       "#sk-container-id-2 div.sk-label-container {\n",
       "  text-align: center;\n",
       "}\n",
       "\n",
       "/* Estimator-specific */\n",
       "#sk-container-id-2 div.sk-estimator {\n",
       "  font-family: monospace;\n",
       "  border: 1px dotted var(--sklearn-color-border-box);\n",
       "  border-radius: 0.25em;\n",
       "  box-sizing: border-box;\n",
       "  margin-bottom: 0.5em;\n",
       "  /* unfitted */\n",
       "  background-color: var(--sklearn-color-unfitted-level-0);\n",
       "}\n",
       "\n",
       "#sk-container-id-2 div.sk-estimator.fitted {\n",
       "  /* fitted */\n",
       "  background-color: var(--sklearn-color-fitted-level-0);\n",
       "}\n",
       "\n",
       "/* on hover */\n",
       "#sk-container-id-2 div.sk-estimator:hover {\n",
       "  /* unfitted */\n",
       "  background-color: var(--sklearn-color-unfitted-level-2);\n",
       "}\n",
       "\n",
       "#sk-container-id-2 div.sk-estimator.fitted:hover {\n",
       "  /* fitted */\n",
       "  background-color: var(--sklearn-color-fitted-level-2);\n",
       "}\n",
       "\n",
       "/* Specification for estimator info (e.g. \"i\" and \"?\") */\n",
       "\n",
       "/* Common style for \"i\" and \"?\" */\n",
       "\n",
       ".sk-estimator-doc-link,\n",
       "a:link.sk-estimator-doc-link,\n",
       "a:visited.sk-estimator-doc-link {\n",
       "  float: right;\n",
       "  font-size: smaller;\n",
       "  line-height: 1em;\n",
       "  font-family: monospace;\n",
       "  background-color: var(--sklearn-color-background);\n",
       "  border-radius: 1em;\n",
       "  height: 1em;\n",
       "  width: 1em;\n",
       "  text-decoration: none !important;\n",
       "  margin-left: 0.5em;\n",
       "  text-align: center;\n",
       "  /* unfitted */\n",
       "  border: var(--sklearn-color-unfitted-level-1) 1pt solid;\n",
       "  color: var(--sklearn-color-unfitted-level-1);\n",
       "}\n",
       "\n",
       ".sk-estimator-doc-link.fitted,\n",
       "a:link.sk-estimator-doc-link.fitted,\n",
       "a:visited.sk-estimator-doc-link.fitted {\n",
       "  /* fitted */\n",
       "  border: var(--sklearn-color-fitted-level-1) 1pt solid;\n",
       "  color: var(--sklearn-color-fitted-level-1);\n",
       "}\n",
       "\n",
       "/* On hover */\n",
       "div.sk-estimator:hover .sk-estimator-doc-link:hover,\n",
       ".sk-estimator-doc-link:hover,\n",
       "div.sk-label-container:hover .sk-estimator-doc-link:hover,\n",
       ".sk-estimator-doc-link:hover {\n",
       "  /* unfitted */\n",
       "  background-color: var(--sklearn-color-unfitted-level-3);\n",
       "  color: var(--sklearn-color-background);\n",
       "  text-decoration: none;\n",
       "}\n",
       "\n",
       "div.sk-estimator.fitted:hover .sk-estimator-doc-link.fitted:hover,\n",
       ".sk-estimator-doc-link.fitted:hover,\n",
       "div.sk-label-container:hover .sk-estimator-doc-link.fitted:hover,\n",
       ".sk-estimator-doc-link.fitted:hover {\n",
       "  /* fitted */\n",
       "  background-color: var(--sklearn-color-fitted-level-3);\n",
       "  color: var(--sklearn-color-background);\n",
       "  text-decoration: none;\n",
       "}\n",
       "\n",
       "/* Span, style for the box shown on hovering the info icon */\n",
       ".sk-estimator-doc-link span {\n",
       "  display: none;\n",
       "  z-index: 9999;\n",
       "  position: relative;\n",
       "  font-weight: normal;\n",
       "  right: .2ex;\n",
       "  padding: .5ex;\n",
       "  margin: .5ex;\n",
       "  width: min-content;\n",
       "  min-width: 20ex;\n",
       "  max-width: 50ex;\n",
       "  color: var(--sklearn-color-text);\n",
       "  box-shadow: 2pt 2pt 4pt #999;\n",
       "  /* unfitted */\n",
       "  background: var(--sklearn-color-unfitted-level-0);\n",
       "  border: .5pt solid var(--sklearn-color-unfitted-level-3);\n",
       "}\n",
       "\n",
       ".sk-estimator-doc-link.fitted span {\n",
       "  /* fitted */\n",
       "  background: var(--sklearn-color-fitted-level-0);\n",
       "  border: var(--sklearn-color-fitted-level-3);\n",
       "}\n",
       "\n",
       ".sk-estimator-doc-link:hover span {\n",
       "  display: block;\n",
       "}\n",
       "\n",
       "/* \"?\"-specific style due to the `<a>` HTML tag */\n",
       "\n",
       "#sk-container-id-2 a.estimator_doc_link {\n",
       "  float: right;\n",
       "  font-size: 1rem;\n",
       "  line-height: 1em;\n",
       "  font-family: monospace;\n",
       "  background-color: var(--sklearn-color-background);\n",
       "  border-radius: 1rem;\n",
       "  height: 1rem;\n",
       "  width: 1rem;\n",
       "  text-decoration: none;\n",
       "  /* unfitted */\n",
       "  color: var(--sklearn-color-unfitted-level-1);\n",
       "  border: var(--sklearn-color-unfitted-level-1) 1pt solid;\n",
       "}\n",
       "\n",
       "#sk-container-id-2 a.estimator_doc_link.fitted {\n",
       "  /* fitted */\n",
       "  border: var(--sklearn-color-fitted-level-1) 1pt solid;\n",
       "  color: var(--sklearn-color-fitted-level-1);\n",
       "}\n",
       "\n",
       "/* On hover */\n",
       "#sk-container-id-2 a.estimator_doc_link:hover {\n",
       "  /* unfitted */\n",
       "  background-color: var(--sklearn-color-unfitted-level-3);\n",
       "  color: var(--sklearn-color-background);\n",
       "  text-decoration: none;\n",
       "}\n",
       "\n",
       "#sk-container-id-2 a.estimator_doc_link.fitted:hover {\n",
       "  /* fitted */\n",
       "  background-color: var(--sklearn-color-fitted-level-3);\n",
       "}\n",
       "</style><div id=\"sk-container-id-2\" class=\"sk-top-container\"><div class=\"sk-text-repr-fallback\"><pre>RandomForestClassifier(random_state=40457510)</pre><b>In a Jupyter environment, please rerun this cell to show the HTML representation or trust the notebook. <br />On GitHub, the HTML representation is unable to render, please try loading this page with nbviewer.org.</b></div><div class=\"sk-container\" hidden><div class=\"sk-item\"><div class=\"sk-estimator fitted sk-toggleable\"><input class=\"sk-toggleable__control sk-hidden--visually\" id=\"sk-estimator-id-2\" type=\"checkbox\" checked><label for=\"sk-estimator-id-2\" class=\"sk-toggleable__label fitted sk-toggleable__label-arrow\"><div><div>RandomForestClassifier</div></div><div><a class=\"sk-estimator-doc-link fitted\" rel=\"noreferrer\" target=\"_blank\" href=\"https://scikit-learn.org/1.6/modules/generated/sklearn.ensemble.RandomForestClassifier.html\">?<span>Documentation for RandomForestClassifier</span></a><span class=\"sk-estimator-doc-link fitted\">i<span>Fitted</span></span></div></label><div class=\"sk-toggleable__content fitted\"><pre>RandomForestClassifier(random_state=40457510)</pre></div> </div></div></div></div>"
      ],
      "text/plain": [
       "RandomForestClassifier(random_state=40457510)"
      ]
     },
     "execution_count": 95,
     "metadata": {},
     "output_type": "execute_result"
    }
   ],
   "source": [
    "rand_clf = RandomForestClassifier(n_estimators=100, random_state=40457510)\n",
    "rand_clf.fit(X_train, y_train)"
   ]
  },
  {
   "cell_type": "markdown",
   "id": "dcf69418-42f0-4a4c-aa13-5073622a0a25",
   "metadata": {},
   "source": [
    "# Model Evaluation "
   ]
  },
  {
   "cell_type": "code",
   "execution_count": 49,
   "id": "42825be2-3715-4cc0-8e9f-f9d460d34614",
   "metadata": {},
   "outputs": [
    {
     "name": "stdout",
     "output_type": "stream",
     "text": [
      "\n",
      "Model Accuracy using Word2Vec: 0.8017\n",
      "\n",
      "Classification Report using Word2vec:\n",
      "                         precision    recall  f1-score   support\n",
      "\n",
      "post-apocalyptic world       0.71      0.74      0.72        23\n",
      "            small town       0.85      0.81      0.83        21\n",
      "           outer space       0.90      0.97      0.93        29\n",
      "  ancient civilisation       0.77      0.68      0.72        25\n",
      "   a modern metropolis       0.75      0.78      0.77        23\n",
      "\n",
      "              accuracy                           0.80       121\n",
      "             macro avg       0.80      0.80      0.80       121\n",
      "          weighted avg       0.80      0.80      0.80       121\n",
      "\n"
     ]
    },
    {
     "data": {
      "image/png": "[encoded data removed]",
      "text/plain": [
       "<Figure size 800x600 with 2 Axes>"
      ]
     },
     "metadata": {},
     "output_type": "display_data"
    }
   ],
   "source": [
    "y_pred = rand_clf.predict(X_test)\n",
    "\n",
    "# Accuracy Score\n",
    "accuracy = accuracy_score(y_test, y_pred)\n",
    "print(f\"\\nModel Accuracy using Word2Vec: {accuracy:.4f}\")\n",
    "\n",
    "# Classification Report\n",
    "print(\"\\nClassification Report using Word2vec:\\n\", classification_report(y_test, y_pred, target_names=label_mapping.keys()))\n",
    "\n",
    "# --- Confusion Matrix ---\n",
    "conf_matrix = confusion_matrix(y_test, y_pred)\n",
    "\n",
    "# Convert confusion matrix into DataFrame\n",
    "conf_matrix_df = pd.DataFrame(conf_matrix, index=label_mapping.keys(), columns=label_mapping.keys())\n",
    "\n",
    "# Plot Confusion Matrix\n",
    "plt.figure(figsize=(8,6))\n",
    "sns.heatmap(conf_matrix_df, annot=True, fmt=\"d\", cmap=\"Blues\", linewidths=1)\n",
    "plt.xlabel(\"Predicted Labels of Stories\")\n",
    "plt.ylabel(\"True Labels of Stories\")\n",
    "plt.title(\"Confusion Matrix for Story Setting Classification\")\n",
    "plt.show()"
   ]
  },
  {
   "cell_type": "code",
   "execution_count": null,
   "id": "1459502c-0c10-40ee-a142-9616aae9b697",
   "metadata": {},
   "outputs": [],
   "source": []
  },
  {
   "cell_type": "markdown",
   "id": "1b43cd86-eaf3-4d12-b91f-abf3342c742e",
   "metadata": {},
   "source": [
    "# Evaluating model by predicting the Setting of given Story"
   ]
  },
  {
   "cell_type": "code",
   "execution_count": 111,
   "id": "9fc6a2b0-8c40-4be3-9db7-193c3d0a606f",
   "metadata": {},
   "outputs": [
    {
     "name": "stdout",
     "output_type": "stream",
     "text": [
      "\n",
      "Predicted Setting for Story 10: a modern metropolis\n"
     ]
    }
   ],
   "source": [
    "def predict_story_setting(story_text):\n",
    "    \"\"\"\n",
    "    Predicts the setting label of a given story using the trained RandomForest model.\n",
    "    \"\"\"\n",
    "    # Preprocessing the text\n",
    "    words = preprocess_text(story_text)\n",
    "\n",
    "    # Getting Word2Vec embeddings and compute average\n",
    "    word_vectors = [word2vec_model[word] for word in words if word in word2vec_model]\n",
    "    \n",
    "    if len(word_vectors) == 0:\n",
    "        story_vector = np.zeros(300)  # Use zero vector if no valid embeddings\n",
    "    else:\n",
    "        story_vector = np.mean(word_vectors, axis=0)\n",
    "\n",
    "    # Reshaping for model input\n",
    "    story_vector = story_vector.reshape(1, -1)\n",
    "\n",
    "    # Prediction using the trained classifier\n",
    "    predicted_label = rand_clf.predict(story_vector)[0]\n",
    "\n",
    "    # Convert numerical label back to category name\n",
    "    setting_name = {v: k for k, v in label_mapping.items()}[predicted_label]\n",
    "    \n",
    "    return setting_name\n",
    "\n",
    "# Trying to predict the Setting of a Story from the Dataset\n",
    "story_index = 10 \n",
    " # Getting story content\n",
    "story_text = df_story.loc[df_story[\"index\"] == story_index, \"text\"].values[0] \n",
    "predicted_setting = predict_story_setting(story_text)\n",
    "\n",
    "print(f\"\\nPredicted Setting for Story {story_index}: {predicted_setting}\")\n"
   ]
  },
  {
   "cell_type": "code",
   "execution_count": 37,
   "id": "ee08a401-56ef-4947-8000-28aaf538e15c",
   "metadata": {},
   "outputs": [
    {
     "data": {
      "text/plain": [
       "{'index': 10,\n",
       " 'theme': 'rebellion',\n",
       " 'setting': 'a modern metropolis',\n",
       " 'person': 'explorer',\n",
       " 'style': 'journalistic',\n",
       " 'outcome': 'defeat',\n",
       " 'object_concept': 'coat',\n",
       " 'story': \"In a city teeming with life, a series of events to defy the order of society transpired. Amongst the towering steel jungle were pockets of resistance like shards of a fractal, each independent yet unified in their struggle. The instigator of this quiet defiance: a man known to trade tales and traverse regions few dared to venture, clad in a coat of ever-changing hues.\\\\n\\\\nHe starts each day at the break of dawn. Where others wandered through the labyrinth of brick and mortar, he slipped through the interstices of society, finding uncharted territories within the familiar. His coat, an amalgamation of patches, was a testament to his adventures and the commitment that led him to uncover hidden lore of which few were aware.\\\\n\\\\nEach patch his coat bore was a symbol of unspoken camaraderie, a promise of remembrance amongst the communities he had visited. Little by little, he wove the narratives of the faceless masses together, conspiring with the whispers of the people to echo through the concrete canyons of the city.\\\\n\\\\nThe elites, who sat high above, cloaked in luxury and detached from reality, grew nervous as the murmurings became a tangible force. They recognized the threat the story-trader posed to their curated reality and moved to preserve their image of order. Enforcers patrolled the whispers' origin points, their eyes scanning the crowd for the multicolored garment, the symbol of resistance.\\\\n\\\\nAttempts were made to disrupt the man's endeavors, to dismantle the network that had sprouted from the seeds of stories he had sown. Yet he evaded those in pursuit, his footsteps masked by the cacophony of the city, his cloak of tales ever blending with the crowd.\\\\n\\\\nBut the city, in all its chaos and order, was a living entity. As it thrived, it also monitored, learned, adapted. Undeterred by the man's resilience, the city's guardians unleashed their final weapon, the unerring eyes of pervasive surveillance that bared the city to its raw elements. Eventually, they cornered the man as he moved through the city's veins, the myriad colors of his coat betraying him under the sightless gaze of networked cameras.\\\\n\\\\nHis capture introduced a fragile silence in the city. Yet the stories he had released into the urban wilderness refused to be subdued. Even as he was hauled away, his coat fluttering about him, the whispers of defiance continued. His name was uttered in whispers amongst the citizens, stoking the very flames that had Him apprehended. The man was captured, but the stories lived, triggering a continual struggle that would redefine the fabric of modern existence.\",\n",
       " 'question1': 'Why was the man in the coat a threat to the elites of the city?',\n",
       " 'answer1': '“They recognized the threat the story-trader posed to their curated reality and moved to preserve their image of order.\"',\n",
       " 'question2': 'What led to the capture of the man in the multicolored coat?',\n",
       " 'answer2': '\"Eventually, they cornered the man as he moved through the city\\'s veins, the myriad colors of his coat betraying him under the sightless gaze of networked cameras.\"'}"
      ]
     },
     "execution_count": 37,
     "metadata": {},
     "output_type": "execute_result"
    }
   ],
   "source": [
    "data[\"stories\"][10]"
   ]
  },
  {
   "cell_type": "code",
   "execution_count": 39,
   "id": "9260d075-6389-430b-9608-2c44be77e3b2",
   "metadata": {},
   "outputs": [
    {
     "name": "stdout",
     "output_type": "stream",
     "text": [
      "\n",
      "Predicted Setting for Story 20: small town\n"
     ]
    }
   ],
   "source": [
    "story_index = 20  # Change this to any story index you want to test\n",
    "story_text = df_story.loc[df_story[\"index\"] == story_index, \"text\"].values[0]  # Get story content\n",
    "predicted_setting = predict_story_setting(story_text)\n",
    "\n",
    "print(f\"\\nPredicted Setting for Story {story_index}: {predicted_setting}\")\n"
   ]
  },
  {
   "cell_type": "code",
   "execution_count": 41,
   "id": "7f44e6df-8280-4699-b319-d81a5c7d18e5",
   "metadata": {},
   "outputs": [
    {
     "data": {
      "text/plain": [
       "{'index': 20,\n",
       " 'theme': 'discovery',\n",
       " 'setting': 'small town',\n",
       " 'person': 'explorer',\n",
       " 'style': 'poetic',\n",
       " 'outcome': 'defeat',\n",
       " 'object_concept': 'lion',\n",
       " 'story': \"In a realm where structures of timber and stone stood sparse, nestled between veils of uninterrupted wilderness, he came, a seeker of the unseen and the yet-to-be-known. Of forgotten paths and hidden truths, his heart pulsed in beat to the tantalizing pull of uncharted lands. An unyielding traveller, ardent and bold, guided by whispers feathered on the wind's breath, he roved across the teeming expanse, threadbare map at his calloused fingertips.\\\\n\\\\nIn the heart of this pastoral dance, nestled a heart, beating amidst the verdant sprawl and the cerulean void yawning above. Circumscribed within its humble borders held an unspoken mystery, beguiling; waiting. To this secluded world, the journeyman meandered, drawn like a moth to the flame of lore pulsating from its core.\\\\n\\\\nA day was birthed under the benevolent watch of the sun-lit king, when the seeker, cloaked in shadows of dawn, stepped onto the cobblestone canvas. Skies blush at his advent, clouds twist in welcome and the effervescent melody of life returns. There, in the town square under the awning of a silent sentinel, an effigy of a stately lion stood, a creature of regal might and grandeur frozen in time’s embrace.\\\\n\\\\nIn halls of chiming silence, where words are hushed, yet echoes speak, he sought the guidance of the learned. Trails of parchment and aging scripts whispered enigmatic riddles, each one folding into the next like a dream latticed into the lattice. Puzzling over cryptic symbols etched on the weathered hide of an ancient map, he saw the silent gaze of the stone lion aligning with the old town clock at eve’s approach.\\\\n\\\\nDays ebbed into nights; challenges, not marauders, breached his determination’s fortress. The azure blanket of cosmos winked at his plight, matching every furrowed brow with a twinkle. And at twilight's call, he ventured onto starlit cobblestones, his gaze hitched onto the lion and the timeless guardian - the clock. It was then he grasped the revelation, a secret passage buried under centuries of yawns and whispers, beneath the stone titan’s silent gaze.\\\\n\\\\nHis end was not marred by a lack of valor or lack of wit. The lineage of the immortal beast, the lion, bested him. The swath of the shepherd, the rhythm of the hamlet clock, they all had whispered and forewarned. Vanquished not by beast or villain, instead, by his own thumb-in-eye bravado. It was the unseen, nature's own, a simple misstep into the cavern’s maw that spelled his fall.\",\n",
       " 'question1': 'Where was the protagonist heading when he stepped on the cobblestone?',\n",
       " 'answer1': '\"To this secluded world, the journeyman meandered, drawn like a moth to the flame of lore pulsating from its core.\"',\n",
       " 'question2': 'How did the protagonist meet his end?',\n",
       " 'answer2': '\"Vanquished not by beast or villain, instead, by his own thumb-in-eye bravado. It was the unseen, nature\\'s own, a simple misstep into the cavern’s maw that spelled his fall.\"'}"
      ]
     },
     "execution_count": 41,
     "metadata": {},
     "output_type": "execute_result"
    }
   ],
   "source": [
    "data[\"stories\"][20]"
   ]
  },
  {
   "cell_type": "code",
   "execution_count": 43,
   "id": "ddd88259-c753-46c8-bf93-c5106e6f89c7",
   "metadata": {},
   "outputs": [
    {
     "name": "stdout",
     "output_type": "stream",
     "text": [
      "\n",
      "Predicted Setting for Story 12: ancient civilisation\n"
     ]
    }
   ],
   "source": [
    "story_index = 12  # Change this to any story index you want to test\n",
    "story_text = df_story.loc[df_story[\"index\"] == story_index, \"text\"].values[0]  # Get story content\n",
    "predicted_setting = predict_story_setting(story_text)\n",
    "\n",
    "print(f\"\\nPredicted Setting for Story {story_index}: {predicted_setting}\")"
   ]
  },
  {
   "cell_type": "code",
   "execution_count": 45,
   "id": "bcfb675c-8ccf-4eed-a08e-03a6446a235f",
   "metadata": {},
   "outputs": [
    {
     "data": {
      "text/plain": [
       "{'index': 12,\n",
       " 'theme': 'betrayal',\n",
       " 'setting': 'a modern metropolis',\n",
       " 'person': 'explorer',\n",
       " 'style': 'concise',\n",
       " 'outcome': 'victory',\n",
       " 'object_concept': 'piano',\n",
       " 'story': \"In a city of glass towers and neon lights, lived a man, Sam. His passion was to navigate the maze of a city life, unfurling its hidden secrets. It was a playground vast and pulsating, filled with life yet lonely as the moonscape. \\\\n\\\\nHe had a friend, a devoted companion, Mike. Their bond was reminiscent of old tales, built on mutual respect and trust. They crossed many milestones, meandering through the labyrinth of the city.\\\\n\\\\nBut greed knows no bar.\\\\n\\\\nOne chilly December night, Mike took Sam to a high-rise building. An ominous shadow, it stood tall under the moonlight. As they reached the penthouse, Mike pointed towards a gleaming artefact. A piano, old yet elegant, stood out against the modern aesthetics of the room. Intrigued, Sam's explorer spirit unearthed a secret compartment, revealing a small treasure.\\\\n\\\\nBut the night held a surprise.\\\\n\\\\nMike, blinded by greed, ran towards Sam, pushing him away. Sam fell back with surprise, as Mike grasped the treasure with trembling hands. The long-standing bond shattered, and the trust was stained.\\\\n\\\\nBut a twist was in the offing.\\\\n\\\\nFamiliar sirens echoed against the pristine surroundings, as a mighty police force stormed in. Astonished, Sam was pulled back. Mike paced forward, but the treasure had vanished. Instead, the law dawned upon him, choir of evidence leading to his downfall. Alone, he was the foolish villain in his own narrative.\\\\n\\\\nWith a sigh of relief, Sam pulled himself up, gazing at the piano. For there is karma, and then there are pianos that echo her tunes.\",\n",
       " 'question1': 'What was the profession of Sam and Mike?',\n",
       " 'answer1': 'His passion was to navigate the maze of a city life, unfurling its hidden secrets.',\n",
       " 'question2': \"What was Sam's reaction after the Police arrived?\",\n",
       " 'answer2': 'With a sigh of relief, Sam pulled himself up, gazing at the piano.'}"
      ]
     },
     "execution_count": 45,
     "metadata": {},
     "output_type": "execute_result"
    }
   ],
   "source": [
    "data[\"stories\"][12]"
   ]
  },
  {
   "cell_type": "markdown",
   "id": "ddca1c8b-0466-4e2b-9969-bf1a8138d97d",
   "metadata": {},
   "source": [
    "# Trying to give new piece of text to predict the setting"
   ]
  },
  {
   "cell_type": "code",
   "execution_count": 47,
   "id": "ebc0fbb6-fa69-4e13-a4e5-278a7d204ba0",
   "metadata": {},
   "outputs": [
    {
     "name": "stdout",
     "output_type": "stream",
     "text": [
      "outer space\n",
      "ancient civilisation\n",
      "outer space\n"
     ]
    }
   ],
   "source": [
    "new_story = \"The spaceship landed on Mars, and the crew explored the red planet.\"\n",
    "print(predict_story_setting(new_story))\n",
    "\n",
    "new_story2 = \"\"\"Scholars and warriors walked the grand stone streets, whispering secrets of the gods and the stars.But as time passed, \n",
    "                sand and silence swallowed their empire, leaving only ruins and forgotten legends.\"\"\"\n",
    "print(predict_story_setting(new_story2))\n",
    "\n",
    "new_story_trick = \"\"\"The spaceship landed on Mars, and the crew explored the red planet.But as time passed, \n",
    "                sand and silence swallowed their empire, leaving only ruins and forgotten legends.\"\"\"\n",
    "print(predict_story_setting(new_story_trick))"
   ]
  },
  {
   "cell_type": "markdown",
   "id": "57e749d4-7b73-4935-a6b3-c9f542e87234",
   "metadata": {},
   "source": [
    "**Above Output: Predicted well in first samples but failed to pedict the third new_story_trick**"
   ]
  },
  {
   "cell_type": "code",
   "execution_count": 1,
   "id": "8786adc0-5f58-4f9f-9315-48c5e2e43841",
   "metadata": {},
   "outputs": [],
   "source": [
    "import torch\n",
    "\n",
    "torch.mps.empty_cache()  # Clears any unused memory allocated by MPS\n"
   ]
  },
  {
   "cell_type": "markdown",
   "id": "219eb423-c731-4831-94ca-9e61eed7e92e",
   "metadata": {},
   "source": [
    "# ------------------2.2\tText classification with BERT-----------------"
   ]
  },
  {
   "cell_type": "code",
   "execution_count": 3,
   "id": "189180b1-0ea5-4619-8d63-8f6a32f2098b",
   "metadata": {},
   "outputs": [
    {
     "name": "stdout",
     "output_type": "stream",
     "text": [
      "Requirement already satisfied: transformers in /Users/hinaghazanfar/Documents/anaconda3/lib/python3.12/site-packages (4.48.3)\n",
      "Requirement already satisfied: filelock in /Users/hinaghazanfar/Documents/anaconda3/lib/python3.12/site-packages (from transformers) (3.16.1)\n",
      "Requirement already satisfied: huggingface-hub<1.0,>=0.24.0 in /Users/hinaghazanfar/Documents/anaconda3/lib/python3.12/site-packages (from transformers) (0.28.1)\n",
      "Requirement already satisfied: numpy>=1.17 in /Users/hinaghazanfar/Documents/anaconda3/lib/python3.12/site-packages (from transformers) (1.26.4)\n",
      "Requirement already satisfied: packaging>=20.0 in /Users/hinaghazanfar/Documents/anaconda3/lib/python3.12/site-packages (from transformers) (24.1)\n",
      "Requirement already satisfied: pyyaml>=5.1 in /Users/hinaghazanfar/Documents/anaconda3/lib/python3.12/site-packages (from transformers) (6.0.1)\n",
      "Collecting regex!=2019.12.17 (from transformers)\n",
      "  Downloading regex-2024.11.6-cp312-cp312-macosx_11_0_arm64.whl.metadata (40 kB)\n",
      "Requirement already satisfied: requests in /Users/hinaghazanfar/Documents/anaconda3/lib/python3.12/site-packages (from transformers) (2.32.3)\n",
      "Requirement already satisfied: tokenizers<0.22,>=0.21 in /Users/hinaghazanfar/Documents/anaconda3/lib/python3.12/site-packages (from transformers) (0.21.0)\n",
      "Requirement already satisfied: safetensors>=0.4.1 in /Users/hinaghazanfar/Documents/anaconda3/lib/python3.12/site-packages (from transformers) (0.5.2)\n",
      "Requirement already satisfied: tqdm>=4.27 in /Users/hinaghazanfar/Documents/anaconda3/lib/python3.12/site-packages (from transformers) (4.66.5)\n",
      "Requirement already satisfied: fsspec>=2023.5.0 in /Users/hinaghazanfar/Documents/anaconda3/lib/python3.12/site-packages (from huggingface-hub<1.0,>=0.24.0->transformers) (2024.6.1)\n",
      "Requirement already satisfied: typing-extensions>=3.7.4.3 in /Users/hinaghazanfar/Documents/anaconda3/lib/python3.12/site-packages (from huggingface-hub<1.0,>=0.24.0->transformers) (4.11.0)\n",
      "Requirement already satisfied: charset-normalizer<4,>=2 in /Users/hinaghazanfar/Documents/anaconda3/lib/python3.12/site-packages (from requests->transformers) (3.3.2)\n",
      "Requirement already satisfied: idna<4,>=2.5 in /Users/hinaghazanfar/Documents/anaconda3/lib/python3.12/site-packages (from requests->transformers) (3.7)\n",
      "Requirement already satisfied: urllib3<3,>=1.21.1 in /Users/hinaghazanfar/Documents/anaconda3/lib/python3.12/site-packages (from requests->transformers) (2.2.3)\n",
      "Requirement already satisfied: certifi>=2017.4.17 in /Users/hinaghazanfar/Documents/anaconda3/lib/python3.12/site-packages (from requests->transformers) (2025.1.31)\n",
      "Downloading regex-2024.11.6-cp312-cp312-macosx_11_0_arm64.whl (284 kB)\n",
      "Installing collected packages: regex\n",
      "Successfully installed regex-2024.11.6\n"
     ]
    }
   ],
   "source": [
    "!pip install transformers\n"
   ]
  },
  {
   "cell_type": "markdown",
   "id": "e944d275-349d-4239-b0e8-ccd7bc5c6a32",
   "metadata": {},
   "source": [
    "# Importing important packages and libraries for Section 2.2 (BERT for Text Classification)"
   ]
  },
  {
   "cell_type": "code",
   "execution_count": 119,
   "id": "2655cbe0-3fc1-4c56-9f03-6c1964bebcea",
   "metadata": {},
   "outputs": [],
   "source": [
    "import torch\n",
    "from torch.utils.data import DataLoader, Dataset\n",
    "from transformers import AdamW, AutoTokenizer, AutoModelForSequenceClassification, get_scheduler, DataCollatorWithPadding\n",
    "\n",
    "from transformers import BertConfig, set_seed\n",
    "from sklearn.metrics import accuracy_score, classification_report, confusion_matrix\n",
    "from tqdm.auto import tqdm  # Progress bar\n",
    "import os\n",
    "import matplotlib.pyplot as plt\n",
    "import seaborn as sns\n",
    "import torch.nn as nn\n",
    "from sklearn.model_selection import train_test_split"
   ]
  },
  {
   "cell_type": "markdown",
   "id": "65126ee9-ea80-46b7-ae41-817691efc6b1",
   "metadata": {},
   "source": [
    "**To avoid warnings and error came during first run**"
   ]
  },
  {
   "cell_type": "code",
   "execution_count": 121,
   "id": "0ac1a605-edfb-4808-a606-18d509c83e72",
   "metadata": {},
   "outputs": [],
   "source": [
    "# Disabling parallelism warning\n",
    "os.environ[\"TOKENIZERS_PARALLELISM\"] = \"false\"\n",
    "\n",
    "# Clear MPS Memory Before Training\n",
    "torch.mps.empty_cache()"
   ]
  },
  {
   "cell_type": "markdown",
   "id": "00ca899c-1ae3-41b3-848e-81feb46b3ca2",
   "metadata": {},
   "source": [
    "# Loading Tokenizer & pre-train BERT Model"
   ]
  },
  {
   "cell_type": "code",
   "execution_count": 125,
   "id": "f384364b-cd3b-4017-b4c7-e5819f7a4603",
   "metadata": {},
   "outputs": [
    {
     "name": "stdout",
     "output_type": "stream",
     "text": [
      "Using device: mps\n"
     ]
    }
   ],
   "source": [
    "SEED=40457510\n",
    "set_seed(40457510)\n",
    "CHECKPOINT = \"bert-base-uncased\"\n",
    "tokenizer = AutoTokenizer.from_pretrained(CHECKPOINT)\n",
    "\n",
    "device = torch.device(\"mps\" if torch.backends.mps.is_available() else \"cpu\")\n",
    "print(f\"Using device: {device}\")"
   ]
  },
  {
   "cell_type": "markdown",
   "id": "4b0364d6-c258-433f-a060-70c49d796978",
   "metadata": {},
   "source": [
    "# Loading BERT model for classification"
   ]
  },
  {
   "cell_type": "code",
   "execution_count": 127,
   "id": "4b061545-d7a7-40ac-a5c2-eeb1ba8745eb",
   "metadata": {},
   "outputs": [
    {
     "name": "stderr",
     "output_type": "stream",
     "text": [
      "Some weights of BertForSequenceClassification were not initialized from the model checkpoint at bert-base-uncased and are newly initialized: ['classifier.bias', 'classifier.weight']\n",
      "You should probably TRAIN this model on a down-stream task to be able to use it for predictions and inference.\n"
     ]
    }
   ],
   "source": [
    "model_Hina = AutoModelForSequenceClassification.from_pretrained(CHECKPOINT, num_labels=5).to(device)\n",
    "\n",
    "\n",
    "# Enable memory-efficient training\n",
    "model_Hina.gradient_checkpointing_enable()"
   ]
  },
  {
   "cell_type": "code",
   "execution_count": 129,
   "id": "45d5ccca-a250-4fa6-bdcf-3804d6f23252",
   "metadata": {},
   "outputs": [
    {
     "name": "stdout",
     "output_type": "stream",
     "text": [
      "Train Indices from Phase 3: 481\n",
      "Test Indices from Phase 3: 121\n"
     ]
    }
   ],
   "source": [
    "# Checking number of samples - Debugging Information\n",
    "print(f\"Train Indices from Phase 3: {len(train_indices)}\") \n",
    "print(f\"Test Indices from Phase 3: {len(test_indices)}\")"
   ]
  },
  {
   "cell_type": "markdown",
   "id": "228ff90b-a5db-476c-999b-9d852e0d5ddb",
   "metadata": {},
   "source": [
    "# Using Train-Test Split from Section 2.1 "
   ]
  },
  {
   "cell_type": "code",
   "execution_count": 131,
   "id": "0c1f51ed-70d3-4f9a-9262-ab0c373805e9",
   "metadata": {},
   "outputs": [
    {
     "name": "stdout",
     "output_type": "stream",
     "text": [
      "Train Samples: 481\n",
      "Test Samples: 121\n"
     ]
    }
   ],
   "source": [
    "train_texts = df_story.loc[train_indices, \"text\"].tolist()  \n",
    "test_texts = df_story.loc[test_indices, \"text\"].tolist()\n",
    "y_train = df_story.loc[train_indices, \"setting_label\"].tolist()\n",
    "y_test = df_story.loc[test_indices, \"setting_label\"].tolist()\n",
    "\n",
    "# Printing dataset sizes to confirm\n",
    "print(f\"Train Samples: {len(train_texts)}\")\n",
    "print(f\"Test Samples: {len(test_texts)}\")"
   ]
  },
  {
   "cell_type": "code",
   "execution_count": null,
   "id": "b3cbd301-2898-4be7-bf8f-4dcf21d27646",
   "metadata": {},
   "outputs": [],
   "source": [
    "# Creating Validation Set (Splitting Train into 80% Train, 20% Validation)"
   ]
  },
  {
   "cell_type": "code",
   "execution_count": 133,
   "id": "79338801-05b7-4b6c-8249-bf8ae46968b9",
   "metadata": {},
   "outputs": [],
   "source": [
    "\n",
    "train_texts, val_texts, y_train, y_val = train_test_split(\n",
    "    train_texts, y_train, test_size=0.2, random_state=SEED, stratify=y_train)"
   ]
  },
  {
   "cell_type": "code",
   "execution_count": 135,
   "id": "68285f05-5992-4e8c-8d94-38d84c37a2cc",
   "metadata": {},
   "outputs": [
    {
     "name": "stdout",
     "output_type": "stream",
     "text": [
      "Train Samples: 384\n",
      "Validation Samples: 97\n",
      "Test Samples: 121\n"
     ]
    }
   ],
   "source": [
    "#  Print dataset sizes again\n",
    "print(f\"Train Samples: {len(train_texts)}\")\n",
    "print(f\"Validation Samples: {len(val_texts)}\")\n",
    "print(f\"Test Samples: {len(test_texts)}\")"
   ]
  },
  {
   "cell_type": "markdown",
   "id": "3d6d2d3e-b1cc-48b8-899e-84629c246f61",
   "metadata": {},
   "source": [
    "# Tokenizing Text for BERT"
   ]
  },
  {
   "cell_type": "code",
   "execution_count": 137,
   "id": "ebd69374-3beb-49e7-9c50-adfd4a61e2b8",
   "metadata": {},
   "outputs": [],
   "source": [
    "MAX_LEN = 512\n",
    "\n",
    "train_encodings = tokenizer(train_texts, padding=\"max_length\", truncation=True, max_length=MAX_LEN, return_tensors=\"pt\")\n",
    "val_encodings = tokenizer(val_texts, padding=\"max_length\", truncation=True, max_length=MAX_LEN, return_tensors=\"pt\")\n",
    "test_encodings = tokenizer(test_texts, padding=\"max_length\", truncation=True, max_length=MAX_LEN, return_tensors=\"pt\")"
   ]
  },
  {
   "cell_type": "markdown",
   "id": "ccbbc5a6-2bc3-475a-8f84-4e99910f7f2a",
   "metadata": {},
   "source": [
    "# Converting labels to tensors"
   ]
  },
  {
   "cell_type": "code",
   "execution_count": 139,
   "id": "404d540e-e6c5-40dd-8bd7-fc842d92774c",
   "metadata": {},
   "outputs": [],
   "source": [
    "#  Convert labels to tensors\n",
    "train_labels = torch.tensor(y_train)\n",
    "val_labels = torch.tensor(y_val)\n",
    "test_labels = torch.tensor(y_test)"
   ]
  },
  {
   "cell_type": "code",
   "execution_count": 141,
   "id": "77d3ffa7-5a0a-4d27-ba69-5a11ee03cbe8",
   "metadata": {},
   "outputs": [],
   "source": [
    "# DataCollator for Padding\n",
    "data_collator = DataCollatorWithPadding(tokenizer=tokenizer)"
   ]
  },
  {
   "cell_type": "markdown",
   "id": "020a2a4f-4cb7-4545-a55d-56c8fd0422a9",
   "metadata": {},
   "source": [
    "# Creating PyTorch Dataset"
   ]
  },
  {
   "cell_type": "code",
   "execution_count": 143,
   "id": "e2656fab-102f-4b96-bc72-6bc3c128c910",
   "metadata": {},
   "outputs": [],
   "source": [
    "class StoryDataset(Dataset):\n",
    "    def __init__(self, encodings, labels):\n",
    "        self.encodings = encodings\n",
    "        self.labels = labels\n",
    "\n",
    "    def __len__(self):\n",
    "        return len(self.labels)\n",
    "\n",
    "    def __getitem__(self, idx):\n",
    "        item = {key: val[idx].clone().detach() for key, val in self.encodings.items()}\n",
    "        item[\"labels\"] = self.labels[idx]\n",
    "        return item\n",
    "\n",
    "# Create Dataset Objects\n",
    "train_dataset = StoryDataset(train_encodings, train_labels)\n",
    "val_dataset = StoryDataset(val_encodings, val_labels)\n",
    "test_dataset = StoryDataset(test_encodings, test_labels)"
   ]
  },
  {
   "cell_type": "markdown",
   "id": "20cd0680-15cc-4aad-9880-9edf6c9a2301",
   "metadata": {},
   "source": [
    "# Defining Optimizer, Scheduler and Fine Tuning"
   ]
  },
  {
   "cell_type": "code",
   "execution_count": 145,
   "id": "137c6a1d-0a39-4ab0-99a8-8d30bda796d3",
   "metadata": {},
   "outputs": [],
   "source": [
    "#optimizer = AdamW(model_Hina.parameters(), lr=2e-5, weight_decay=0.01)\n",
    "optimizer = AdamW(model_Hina.parameters(), lr=2e-5, weight_decay=0.01, no_deprecation_warning=True)\n",
    "BATCH_SIZE = 4\n",
    "EPOCHS = 5\n",
    "\n",
    "# Adjusting num_training_steps\n",
    "num_training_steps = (len(train_dataset) // BATCH_SIZE) * EPOCHS\n",
    "\n",
    "lr_scheduler = get_scheduler(\"linear\", optimizer=optimizer, num_warmup_steps=0, num_training_steps=num_training_steps)"
   ]
  },
  {
   "cell_type": "markdown",
   "id": "f7a9322c-af9c-400e-9f4b-664b4ad945be",
   "metadata": {},
   "source": [
    "# Creating DataLoader"
   ]
  },
  {
   "cell_type": "code",
   "execution_count": 147,
   "id": "4ca58b98-bd0f-4d96-83e5-7322f8b44b0d",
   "metadata": {},
   "outputs": [],
   "source": [
    "train_loader = DataLoader(train_dataset, batch_size=BATCH_SIZE, shuffle=True, collate_fn=data_collator)\n",
    "val_loader = DataLoader(val_dataset, batch_size=BATCH_SIZE, shuffle=False, collate_fn=data_collator)\n",
    "test_loader = DataLoader(test_dataset, batch_size=BATCH_SIZE, shuffle=False, collate_fn=data_collator)"
   ]
  },
  {
   "cell_type": "markdown",
   "id": "6d415bc5-12f0-4c67-adf9-1f49ceec378d",
   "metadata": {},
   "source": [
    "# Training BERT Model with batch size=4, epochs=5, learning rate=2e-5"
   ]
  },
  {
   "cell_type": "code",
   "execution_count": 149,
   "id": "35805fab-f678-48da-83e9-4dce73fc65b2",
   "metadata": {},
   "outputs": [
    {
     "data": {
      "application/vnd.jupyter.widget-view+json": {
       "model_id": "19e4916c82de4f959132853af99c9275",
       "version_major": 2,
       "version_minor": 0
      },
      "text/plain": [
       "Training Progress:   0%|                                  | 0/5 [00:00<?, ?it/s]"
      ]
     },
     "metadata": {},
     "output_type": "display_data"
    },
    {
     "name": "stdout",
     "output_type": "stream",
     "text": [
      "Epoch 1/5 - Train Loss: 0.7978 - Train Accuracy: 0.2526 - Val Loss: 1.3997 - Val Accuracy: 0.7010\n",
      "Epoch 2/5 - Train Loss: 0.4864 - Train Accuracy: 0.7839 - Val Loss: 0.5447 - Val Accuracy: 0.8763\n",
      "Epoch 3/5 - Train Loss: 0.1795 - Train Accuracy: 0.9609 - Val Loss: 0.2450 - Val Accuracy: 0.9588\n",
      "Epoch 4/5 - Train Loss: 0.0708 - Train Accuracy: 0.9922 - Val Loss: 0.1470 - Val Accuracy: 0.9691\n",
      "Epoch 5/5 - Train Loss: 0.0367 - Train Accuracy: 1.0000 - Val Loss: 0.1240 - Val Accuracy: 0.9794\n"
     ]
    },
    {
     "data": {
      "image/png": "[encoded data removed]",
      "text/plain": [
       "<Figure size 800x500 with 1 Axes>"
      ]
     },
     "metadata": {},
     "output_type": "display_data"
    }
   ],
   "source": [
    "ACCUMULATION_STEPS = 2\n",
    "torch.mps.empty_cache()\n",
    "\n",
    "progress_bar = tqdm(range(EPOCHS), desc=\"Training Progress\", leave=True, dynamic_ncols=True)\n",
    "\n",
    "# Track Loss for Visualization\n",
    "train_losses, val_losses = [], []\n",
    "\n",
    "for epoch in range(EPOCHS):\n",
    "    model_Hina.train()\n",
    "    total_train_loss = 0\n",
    "    train_preds, train_true = [], []\n",
    "\n",
    "    for i, batch in enumerate(train_loader):\n",
    "        batch = {k: v.to(device) for k, v in batch.items()}\n",
    "        outputs = model_Hina(**batch)\n",
    "        loss = outputs.loss / ACCUMULATION_STEPS\n",
    "        total_train_loss += loss.item()\n",
    "\n",
    "        predictions = torch.argmax(outputs.logits, dim=1).cpu().numpy()\n",
    "        train_preds.extend(predictions)\n",
    "        train_true.extend(batch[\"labels\"].cpu().numpy())\n",
    "\n",
    "        loss.backward()\n",
    "\n",
    "        if (i + 1) % ACCUMULATION_STEPS == 0:\n",
    "            optimizer.step()\n",
    "            lr_scheduler.step()\n",
    "            optimizer.zero_grad()\n",
    "\n",
    "#  Compute Training & Validation Accuracy\n",
    "    train_accuracy = accuracy_score(train_true, train_preds)\n",
    "    avg_train_loss = total_train_loss / len(train_loader)\n",
    "    train_losses.append(avg_train_loss)\n",
    "\n",
    "    #  Validate Model After Each Epoch\n",
    "    model_Hina.eval()\n",
    "    total_val_loss = 0\n",
    "    val_preds, val_true = [], []\n",
    "\n",
    "    with torch.no_grad():\n",
    "        for batch in val_loader:\n",
    "            batch = {k: v.to(device) for k, v in batch.items()}\n",
    "            outputs = model_Hina(**batch)\n",
    "            loss = outputs.loss\n",
    "            total_val_loss += loss.item()\n",
    "\n",
    "            predictions = torch.argmax(outputs.logits, dim=1).cpu().numpy()\n",
    "            val_preds.extend(predictions)\n",
    "            val_true.extend(batch[\"labels\"].cpu().numpy())\n",
    "\n",
    "    avg_val_loss = total_val_loss / len(val_loader)\n",
    "    val_losses.append(avg_val_loss)\n",
    "    val_accuracy = accuracy_score(val_true, val_preds)\n",
    "\n",
    "    print(f\"Epoch {epoch+1}/{EPOCHS} - Train Loss: {avg_train_loss:.4f} - Train Accuracy: {train_accuracy:.4f} - Val Loss: {avg_val_loss:.4f} - Val Accuracy: {val_accuracy:.4f}\")\n",
    "    progress_bar.update(1)  #  Updates progress after each epoch\n",
    "    progress_bar.refresh()\n",
    "\n",
    "# --- Plot Training and Validation Loss Curve ---\n",
    "plt.figure(figsize=(8,5))\n",
    "plt.plot(range(1, len(train_losses) + 1), train_losses, label='Training Loss', marker='o')\n",
    "plt.plot(range(1, len(val_losses) + 1), val_losses, label='Validation Loss', marker='o', linestyle=\"dashed\")\n",
    "\n",
    "# Labels and Title\n",
    "plt.xlabel('Epoch')\n",
    "plt.ylabel('Cross-Entropy Loss Using BERT Model')\n",
    "plt.title('Training & Validation Loss Curve')\n",
    "plt.legend()\n",
    "plt.grid()\n",
    "plt.show()"
   ]
  },
  {
   "cell_type": "markdown",
   "id": "795c9278-78bc-4d89-876c-8a676e0985b2",
   "metadata": {},
   "source": [
    "# Evaluating Model on Test Data"
   ]
  },
  {
   "cell_type": "code",
   "execution_count": 151,
   "id": "97cad5af-d242-44c6-8672-263f68194633",
   "metadata": {},
   "outputs": [
    {
     "name": "stdout",
     "output_type": "stream",
     "text": [
      "\n",
      " Final Test Accuracy of BERT Model: 0.9504\n",
      "\n",
      " Classification Report for Story Setting Classification using Pre-Trained BERT Model:\n",
      "                        precision    recall  f1-score   support\n",
      "\n",
      "post-apocalyptic world       0.84      0.91      0.88        23\n",
      "            small town       1.00      0.90      0.95        21\n",
      "           outer space       0.97      1.00      0.98        29\n",
      "  ancient civilisation       0.96      0.92      0.94        25\n",
      "   a modern metropolis       1.00      1.00      1.00        23\n",
      "\n",
      "              accuracy                           0.95       121\n",
      "             macro avg       0.95      0.95      0.95       121\n",
      "          weighted avg       0.95      0.95      0.95       121\n",
      "\n"
     ]
    },
    {
     "data": {
      "image/png": "[encoded data removed]",
      "text/plain": [
       "<Figure size 800x600 with 2 Axes>"
      ]
     },
     "metadata": {},
     "output_type": "display_data"
    }
   ],
   "source": [
    "test_preds = []\n",
    "with torch.no_grad():\n",
    "    for batch in test_loader:\n",
    "        batch = {k: v.to(device) for k, v in batch.items()}\n",
    "        outputs = model_Hina(**batch)\n",
    "        predictions = torch.argmax(outputs.logits, dim=1).cpu().numpy()\n",
    "        test_preds.extend(predictions)\n",
    "\n",
    "test_accuracy = accuracy_score(test_labels.cpu().numpy(), test_preds)\n",
    "print(f\"\\n Final Test Accuracy of BERT Model: {test_accuracy:.4f}\")\n",
    "\n",
    "#  Display Classification Report\n",
    "print(\"\\n Classification Report for Story Setting Classification using Pre-Trained BERT Model:\")\n",
    "print(classification_report(test_labels.cpu().numpy(), test_preds, target_names=list(label_mapping.keys()), zero_division=1))\n",
    "\n",
    "\n",
    "# Compute Confusion Matrix\n",
    "conf_matrix = confusion_matrix(test_labels, test_preds)\n",
    "conf_matrix_df = pd.DataFrame(conf_matrix, index=label_mapping.keys(), columns=label_mapping.keys())\n",
    "# Plot Confusion Matrix\n",
    "plt.figure(figsize=(8,6))\n",
    "sns.heatmap(conf_matrix_df, annot=True, fmt=\"d\", cmap=\"Blues\", linewidths=1)\n",
    "plt.xlabel(\"Predicted Labels\")\n",
    "plt.ylabel(\"True Labels\")\n",
    "plt.title(\"Confusion Matrix for Story Setting Classification\")\n",
    "plt.show()"
   ]
  },
  {
   "cell_type": "code",
   "execution_count": 185,
   "id": "8cbdff40-a19c-4e32-9cf0-0d2ef04303aa",
   "metadata": {},
   "outputs": [
    {
     "data": {
      "text/plain": [
       "('Hina_fine_tuned_bert_model/tokenizer_config.json',\n",
       " 'Hina_fine_tuned_bert_model/special_tokens_map.json',\n",
       " 'Hina_fine_tuned_bert_model/vocab.txt',\n",
       " 'Hina_fine_tuned_bert_model/added_tokens.json',\n",
       " 'Hina_fine_tuned_bert_model/tokenizer.json')"
      ]
     },
     "execution_count": 185,
     "metadata": {},
     "output_type": "execute_result"
    }
   ],
   "source": [
    "# Saving the fine-tuned model and tokenizer\n",
    "model_Hina.save_pretrained(\"Hina_fine_tuned_bert_model\")\n",
    "tokenizer.save_pretrained(\"Hina_fine_tuned_bert_model\")"
   ]
  }
 ],
 "metadata": {
  "kernelspec": {
   "display_name": "Python 3 (ipykernel)",
   "language": "python",
   "name": "python3"
  },
  "language_info": {
   "codemirror_mode": {
    "name": "ipython",
    "version": 3
   },
   "file_extension": ".py",
   "mimetype": "text/x-python",
   "name": "python",
   "nbconvert_exporter": "python",
   "pygments_lexer": "ipython3",
   "version": "3.12.7"
  }
 },
 "nbformat": 4,
 "nbformat_minor": 5
}
