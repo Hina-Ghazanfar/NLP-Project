{
 "cells": [
  {
   "cell_type": "markdown",
   "id": "195275c4-627e-47f4-b051-e093f4818bf3",
   "metadata": {},
   "source": [
    "# Section 3: Sentiment and Emotion\n",
    "\n",
    "\n",
    "# 3.1\tSentiment analysis with BERT.\n"
   ]
  },
  {
   "cell_type": "markdown",
   "id": "8be87b70-9e93-4c75-935c-5104fafa07cb",
   "metadata": {},
   "source": [
    "# Imported Required Libraries "
   ]
  },
  {
   "cell_type": "code",
   "execution_count": 41,
   "id": "7c4fb2d8-7ff5-4f71-8a2f-63d849e37c6d",
   "metadata": {},
   "outputs": [],
   "source": [
    "import torch\n",
    "import pandas as pd\n",
    "from torch.utils.data import DataLoader, Dataset\n",
    "from transformers import AdamW, AutoTokenizer, BertForSequenceClassification, get_scheduler, DataCollatorWithPadding, set_seed\n",
    "from sklearn.model_selection import train_test_split\n",
    "from sklearn.metrics import accuracy_score, classification_report, confusion_matrix\n",
    "from tqdm import tqdm\n",
    "import os\n",
    "import matplotlib.pyplot as plt\n",
    "import seaborn as sns\n",
    "import spacy \n",
    "import random\n",
    "\n",
    "\n",
    "# Seed for reproducibility\n",
    "SEED = 40457510\n",
    "random.seed(SEED)\n",
    "np.random.seed(SEED)\n",
    "torch.manual_seed(SEED)\n",
    "torch.backends.cudnn.deterministic = True\n",
    "torch.backends.cudnn.benchmark = False\n",
    "set_seed(SEED)\n",
    "# Disabling parallelism warning\n",
    "os.environ[\"TOKENIZERS_PARALLELISM\"] = \"false\"\n",
    "\n",
    "# Loading spaCy model for sentence segmentation/ For last sentence splitting\n",
    "nlp = spacy.load(\"en_core_web_sm\")\n"
   ]
  },
  {
   "cell_type": "markdown",
   "id": "71787565-f5bc-437e-adf0-7d79fedcddea",
   "metadata": {},
   "source": [
    "# Loading and Processing Data(Extracting last sentence of each story)"
   ]
  },
  {
   "cell_type": "code",
   "execution_count": 43,
   "id": "86fd3852-2a0c-44be-8261-d938c32ad8b0",
   "metadata": {},
   "outputs": [
    {
     "name": "stdout",
     "output_type": "stream",
     "text": [
      "   index                                      last_sentence  outcome\n",
      "0      0  His final gambit, a symphony of silence permea...        0\n",
      "1      1  The illustrious career of our protagonist met ...        0\n",
      "2      2  The townsfolk slept, oblivious to the unfoldin...        1\n",
      "3      3  This once-simple farmer had transformed into t...        1\n",
      "4      4  His relentless pursuit of righting the wrong h...        1\n",
      "Total stories processed: 602\n"
     ]
    }
   ],
   "source": [
    "import json\n",
    "\n",
    "# Loading the dataset\n",
    "file_path = \"stories.json\" \n",
    "with open(file_path, \"r\", encoding=\"utf-8\") as file:\n",
    "    data = json.load(file)\n",
    "\n",
    "# Extracting last sentence and outcome from each story\n",
    "story_sentiment = []\n",
    "for story in data[\"stories\"]:\n",
    "    doc = nlp(story[\"story\"])  # Process text with spaCy\n",
    "    sentences = [sent.text for sent in doc.sents]\n",
    "    \n",
    "# Extracting last sentence (will skip stories with no sentences)\n",
    "    if len(sentences) > 0:\n",
    "        last_sentence = sentences[-1]  # Get last sentence\n",
    "        outcome_label = 1 if story[\"outcome\"] == \"victory\" else 0  # Binary label\n",
    "\n",
    "        story_sentiment.append({\n",
    "            \"index\": story[\"index\"],\n",
    "            \"last_sentence\": last_sentence,\n",
    "            \"outcome\": outcome_label\n",
    "        })\n",
    "\n",
    "# Converting to DataFrame \n",
    "df = pd.DataFrame(story_sentiment)\n",
    "\n",
    "# Printing dataset summary\n",
    "print(df.head())\n",
    "print(f\"Total stories processed: {len(df)}\")\n"
   ]
  },
  {
   "cell_type": "markdown",
   "id": "ec668207-3eda-4953-8934-556d0da34df2",
   "metadata": {},
   "source": [
    "# Train-Test Split"
   ]
  },
  {
   "cell_type": "code",
   "execution_count": 47,
   "id": "e9a6883a-3d24-4fc6-843b-b94aca37cb33",
   "metadata": {},
   "outputs": [
    {
     "name": "stdout",
     "output_type": "stream",
     "text": [
      "Training samples: 384,Validation samples: 97, Testing samples: 121\n"
     ]
    }
   ],
   "source": [
    "#train_texts, test_texts, y_train, y_test = train_test_split(\n",
    " #   df[\"last_sentence\"].tolist(), df[\"outcome\"].tolist(), \n",
    " #   test_size=0.2, random_state=40457510, stratify=df[\"outcome\"]\n",
    "#)\n",
    "\n",
    "\n",
    "\n",
    "# Splitting dataset\n",
    "train_texts, test_texts, y_train, y_test = train_test_split(\n",
    "    df[\"last_sentence\"].tolist(), df[\"outcome\"].tolist(),\n",
    "    test_size=0.2, random_state=SEED, stratify=df[\"outcome\"]\n",
    ")\n",
    "train_texts, val_texts, y_train, y_val = train_test_split(\n",
    "    train_texts, y_train, test_size=0.2, random_state=SEED, stratify=y_train\n",
    ")\n",
    "\n",
    "# Printing dataset sizes\n",
    "print(f\"Training samples: {len(train_texts)},Validation samples: {len(val_texts)}, Testing samples: {len(test_texts)}\")"
   ]
  },
  {
   "cell_type": "markdown",
   "id": "f9d21d6e-bc2f-4f13-b386-bb96a653d43f",
   "metadata": {},
   "source": [
    "# Tokenizor and Model"
   ]
  },
  {
   "cell_type": "code",
   "execution_count": 49,
   "id": "6cc08caf-767b-471d-85f4-0d83ec6c30e8",
   "metadata": {},
   "outputs": [],
   "source": [
    "\n",
    "CHECKPOINT = \"bert-base-uncased\"\n",
    "tokenizer = AutoTokenizer.from_pretrained(CHECKPOINT)\n",
    "\n",
    "MAX_LEN = 128  # Last sentences are short, so 128 tokens should be enough\n",
    "\n",
    "# Tokenizing datasets\n",
    "train_encodings = tokenizer(train_texts, padding=\"max_length\", truncation=True, max_length=MAX_LEN, return_tensors=\"pt\")\n",
    "val_encodings = tokenizer(val_texts, padding=\"max_length\", truncation=True, max_length=MAX_LEN, return_tensors=\"pt\")                          \n",
    "test_encodings = tokenizer(test_texts, padding=\"max_length\", truncation=True, max_length=MAX_LEN, return_tensors=\"pt\")\n",
    "\n",
    "\n",
    "# Converting labels to tensors\n",
    "train_labels = torch.tensor(y_train)\n",
    "val_labels = torch.tensor(y_val)\n",
    "test_labels = torch.tensor(y_test)\n",
    "\n",
    "# Use DataCollator for Padding\n",
    "data_collator = DataCollatorWithPadding(tokenizer=tokenizer)\n"
   ]
  },
  {
   "cell_type": "markdown",
   "id": "86e95784-a655-4643-963f-a7f98bf6e60d",
   "metadata": {},
   "source": [
    "# Creating PyTorch Dataset "
   ]
  },
  {
   "cell_type": "code",
   "execution_count": 51,
   "id": "001dcdbd-6271-4eb9-b7b4-024665272fef",
   "metadata": {},
   "outputs": [],
   "source": [
    "class OutcomeDataset(Dataset):\n",
    "    def __init__(self, encodings, labels):\n",
    "        self.encodings = encodings\n",
    "        self.labels = labels\n",
    "\n",
    "    def __len__(self):\n",
    "        return len(self.labels)\n",
    "\n",
    "    def __getitem__(self, idx):\n",
    "        item = {key: val[idx].clone().detach() for key, val in self.encodings.items()}\n",
    "        item[\"labels\"] = self.labels[idx]\n",
    "        return item\n",
    "\n",
    "# Creating Dataset Objects\n",
    "train_dataset = OutcomeDataset(train_encodings, train_labels)\n",
    "val_dataset   = OutcomeDataset(val_encodings, val_labels)\n",
    "test_dataset = OutcomeDataset(test_encodings, test_labels)\n"
   ]
  },
  {
   "cell_type": "code",
   "execution_count": 11,
   "id": "51189426-daff-44b1-a9ce-eb357627003b",
   "metadata": {},
   "outputs": [
    {
     "data": {
      "text/plain": [
       "<__main__.OutcomeDataset at 0x315d7e9c0>"
      ]
     },
     "execution_count": 11,
     "metadata": {},
     "output_type": "execute_result"
    }
   ],
   "source": [
    "test_dataset"
   ]
  },
  {
   "cell_type": "code",
   "execution_count": 13,
   "id": "fb478ed7-3c3c-4ed9-aa38-bb55b0513b9b",
   "metadata": {},
   "outputs": [
    {
     "data": {
      "text/plain": [
       "<__main__.OutcomeDataset at 0x315d7de50>"
      ]
     },
     "execution_count": 13,
     "metadata": {},
     "output_type": "execute_result"
    }
   ],
   "source": [
    "train_dataset"
   ]
  },
  {
   "cell_type": "markdown",
   "id": "fec0bf8f-9490-4ca6-8069-82ae186d7168",
   "metadata": {},
   "source": [
    "# Checking whether dataset is balance between 'victory' and 'defeat'"
   ]
  },
  {
   "cell_type": "code",
   "execution_count": 53,
   "id": "6703f375-5717-4267-9b35-9bec19d47e98",
   "metadata": {},
   "outputs": [
    {
     "data": {
      "image/png": "[encoded data removed]",
      "text/plain": [
       "<Figure size 640x480 with 1 Axes>"
      ]
     },
     "metadata": {},
     "output_type": "display_data"
    },
    {
     "name": "stdout",
     "output_type": "stream",
     "text": [
      "602\n"
     ]
    }
   ],
   "source": [
    "import seaborn as sns\n",
    "import matplotlib.pyplot as plt\n",
    "\n",
    "sns.countplot(x='outcome', data=df)\n",
    "plt.xlabel(\"Outcome (0: defeat, 1: victory)\")\n",
    "plt.ylabel(\"Number of samples\")\n",
    "plt.title(\"Distribution of Story Outcomes\")\n",
    "plt.show()\n",
    "print(len(df))"
   ]
  },
  {
   "cell_type": "markdown",
   "id": "7d421a32-ab60-4c21-a542-78141ade40a8",
   "metadata": {},
   "source": [
    "# Loading Model, Define Optimizer & Scheduler"
   ]
  },
  {
   "cell_type": "code",
   "execution_count": 55,
   "id": "444235af-9c62-4998-9a38-2bf794a1cc29",
   "metadata": {},
   "outputs": [
    {
     "name": "stdout",
     "output_type": "stream",
     "text": [
      "Using device: mps\n"
     ]
    },
    {
     "name": "stderr",
     "output_type": "stream",
     "text": [
      "Some weights of BertForSequenceClassification were not initialized from the model checkpoint at bert-base-uncased and are newly initialized: ['classifier.bias', 'classifier.weight']\n",
      "You should probably TRAIN this model on a down-stream task to be able to use it for predictions and inference.\n",
      "/Users/hinaghazanfar/Documents/anaconda3/lib/python3.12/site-packages/transformers/optimization.py:591: FutureWarning: This implementation of AdamW is deprecated and will be removed in a future version. Use the PyTorch implementation torch.optim.AdamW instead, or set `no_deprecation_warning=True` to disable this warning\n",
      "  warnings.warn(\n"
     ]
    }
   ],
   "source": [
    "device = torch.device(\"mps\" if torch.backends.mps.is_available() else \"cpu\")\n",
    "print(f\"Using device: {device}\")\n",
    "\n",
    "# Loading pre-trained BERT model for binary classification\n",
    "model = BertForSequenceClassification.from_pretrained(CHECKPOINT, num_labels=2).to(device)\n",
    "\n",
    "# Optimizer & Scheduler\n",
    "optimizer = AdamW(model.parameters(), lr=2e-5, weight_decay=0.01)\n",
    "\n",
    "EPOCHS = 5\n",
    "BATCH_SIZE = 4\n",
    "\n",
    "\n",
    "num_trainin g_steps = (len(train_dataset) // BATCH_SIZE) * EPOCHS\n",
    "lr_scheduler = get_scheduler(\"linear\", optimizer=optimizer, num_warmup_steps=0, num_training_steps=num_training_steps)\n"
   ]
  },
  {
   "cell_type": "markdown",
   "id": "3da70a4f-0076-4512-8c25-326a32e5faa1",
   "metadata": {},
   "source": [
    "# Creating DataLoaders"
   ]
  },
  {
   "cell_type": "code",
   "execution_count": 57,
   "id": "31d88415-411b-473f-9f35-b2c4bfd59c3e",
   "metadata": {},
   "outputs": [],
   "source": [
    "train_loader = DataLoader(train_dataset, batch_size=BATCH_SIZE, shuffle=True, collate_fn=data_collator)\n",
    "val_loader = DataLoader(val_dataset, batch_size=BATCH_SIZE, shuffle=False, collate_fn=data_collator)\n",
    "test_loader = DataLoader(test_dataset, batch_size=BATCH_SIZE, shuffle=False, collate_fn=data_collator)"
   ]
  },
  {
   "cell_type": "code",
   "execution_count": 21,
   "id": "c3661eb4-1b8d-45fe-90da-342bbffce346",
   "metadata": {},
   "outputs": [
    {
     "data": {
      "text/plain": [
       "<torch.utils.data.dataloader.DataLoader at 0x31604bb60>"
      ]
     },
     "execution_count": 21,
     "metadata": {},
     "output_type": "execute_result"
    }
   ],
   "source": [
    "train_loader"
   ]
  },
  {
   "cell_type": "markdown",
   "id": "4128bb28-d474-45d6-b599-97786a5e723b",
   "metadata": {},
   "source": [
    "# Fine-Tune BERT for Sentiment Analysis EPOCHS = 5, BATCH_SIZE = 4"
   ]
  },
  {
   "cell_type": "code",
   "execution_count": 59,
   "id": "9c1d391c-eb5a-4123-b811-3643d9c94d80",
   "metadata": {},
   "outputs": [
    {
     "name": "stderr",
     "output_type": "stream",
     "text": [
      "\n",
      "Training Progress: 100%|█████████████████████████| 5/5 [32:35<00:00, 391.18s/it]\u001b[A\n",
      "\n",
      "Training Progress:  20%|█████▏                    | 1/5 [00:24<01:38, 24.63s/it]\u001b[A"
     ]
    },
    {
     "name": "stdout",
     "output_type": "stream",
     "text": [
      "Epoch 1: Train Loss=0.6276, Train Acc=0.6432, Val Loss=0.4769, Val Acc=0.8367\n"
     ]
    },
    {
     "name": "stderr",
     "output_type": "stream",
     "text": [
      "\n",
      "Training Progress:  40%|██████████▍               | 2/5 [00:48<01:12, 24.30s/it]\u001b[A"
     ]
    },
    {
     "name": "stdout",
     "output_type": "stream",
     "text": [
      "Epoch 2: Train Loss=0.2804, Train Acc=0.8724, Val Loss=0.4172, Val Acc=0.8163\n"
     ]
    },
    {
     "name": "stderr",
     "output_type": "stream",
     "text": [
      "\n",
      "Training Progress:  60%|███████████████▌          | 3/5 [01:12<00:48, 24.25s/it]\u001b[A"
     ]
    },
    {
     "name": "stdout",
     "output_type": "stream",
     "text": [
      "Epoch 3: Train Loss=0.0816, Train Acc=0.9740, Val Loss=0.6260, Val Acc=0.7959\n"
     ]
    },
    {
     "name": "stderr",
     "output_type": "stream",
     "text": [
      "\n",
      "Training Progress:  80%|████████████████████▊     | 4/5 [01:37<00:24, 24.20s/it]\u001b[A"
     ]
    },
    {
     "name": "stdout",
     "output_type": "stream",
     "text": [
      "Epoch 4: Train Loss=0.0462, Train Acc=0.9818, Val Loss=0.9042, Val Acc=0.7551\n"
     ]
    },
    {
     "name": "stderr",
     "output_type": "stream",
     "text": [
      "\n",
      "Training Progress: 100%|██████████████████████████| 5/5 [02:01<00:00, 24.36s/it]\u001b[A"
     ]
    },
    {
     "name": "stdout",
     "output_type": "stream",
     "text": [
      "Epoch 5: Train Loss=0.0335, Train Acc=0.9948, Val Loss=0.7209, Val Acc=0.8163\n"
     ]
    },
    {
     "data": {
      "image/png": "[encoded data removed]",
      "text/plain": [
       "<Figure size 640x480 with 1 Axes>"
      ]
     },
     "metadata": {},
     "output_type": "display_data"
    }
   ],
   "source": [
    "# Training loop\n",
    "train_losses, val_losses, train_accs, val_accs = [], [], [], []\n",
    "\n",
    "progress_bar = tqdm(range(EPOCHS), desc=\"Training Progress\", leave=True, dynamic_ncols=True)\n",
    "for epoch in range(EPOCHS):\n",
    "    model.train()\n",
    "    total_train_loss, correct_train = 0, 0\n",
    "    for batch in train_loader:\n",
    "        batch = {k: v.to(device) for k, v in batch.items()}\n",
    "        outputs = model(**batch)\n",
    "        loss = outputs.loss\n",
    "        total_train_loss += loss.item()\n",
    "        loss.backward()\n",
    "        optimizer.step()\n",
    "        optimizer.zero_grad()\n",
    "    \n",
    "        preds = torch.argmax(outputs.logits, dim=1)\n",
    "        correct_train += (preds == batch[\"labels\"]).sum().item()\n",
    "    \n",
    "    train_loss = total_train_loss / len(train_loader)\n",
    "    train_acc = correct_train / len(train_dataset)\n",
    "    train_losses.append(train_loss)\n",
    "    train_accs.append(train_acc)\n",
    "\n",
    "    model.eval()\n",
    "    total_val_loss, correct_val = 0, 0\n",
    "    with torch.no_grad():\n",
    "        for batch in val_loader:\n",
    "            batch = {k: v.to(device) for k, v in batch.items()}\n",
    "            outputs = model(**batch)\n",
    "            loss = outputs.loss\n",
    "            total_val_loss += loss.item()\n",
    "            preds = torch.argmax(outputs.logits, dim=1)\n",
    "            correct_val += (preds == batch[\"labels\"]).sum().item()\n",
    "    \n",
    "    val_loss = total_val_loss / len(val_loader)\n",
    "    val_acc = correct_val / len(val_dataset)\n",
    "    val_losses.append(val_loss)\n",
    "    val_accs.append(val_acc)\n",
    "    \n",
    "    print(f\"Epoch {epoch+1}: Train Loss={train_loss:.4f}, Train Acc={train_acc:.4f}, Val Loss={val_loss:.4f}, Val Acc={val_acc:.4f}\")\n",
    "    progress_bar.update()\n",
    "# Plotting Loss Curves\n",
    "plt.figure()\n",
    "plt.plot(range(EPOCHS), train_losses, label=\"Train Loss\")\n",
    "plt.plot(range(EPOCHS), val_losses, label=\"Validation Loss\")\n",
    "plt.xlabel(\"Epochs\")\n",
    "plt.ylabel(\"Loss\")\n",
    "plt.legend()\n",
    "plt.title(\"Training & Validation Loss Curves\")\n",
    "plt.show()"
   ]
  },
  {
   "cell_type": "markdown",
   "id": "d5756987-0c40-4331-b974-e2fddd43a59f",
   "metadata": {},
   "source": [
    "# Evaluating the Model "
   ]
  },
  {
   "cell_type": "code",
   "execution_count": 61,
   "id": "bc6a328e-dcf8-4e2a-a8ea-92b7e94b9e41",
   "metadata": {},
   "outputs": [
    {
     "name": "stdout",
     "output_type": "stream",
     "text": [
      "\n",
      "Model Accuracy of BERT Modedl For Sentiment Analysis: 0.7934\n",
      "\n",
      "Classification Report:\n",
      "               precision    recall  f1-score   support\n",
      "\n",
      "           0       0.80      0.81      0.80        63\n",
      "           1       0.79      0.78      0.78        58\n",
      "\n",
      "    accuracy                           0.79       121\n",
      "   macro avg       0.79      0.79      0.79       121\n",
      "weighted avg       0.79      0.79      0.79       121\n",
      "\n"
     ]
    },
    {
     "data": {
      "image/png": "[encoded data removed]",
      "text/plain": [
       "<Figure size 640x480 with 2 Axes>"
      ]
     },
     "metadata": {},
     "output_type": "display_data"
    }
   ],
   "source": [
    "# Evaluation on Test Set\n",
    "model.eval()\n",
    "test_preds, test_true = [], []\n",
    "with torch.no_grad():\n",
    "    for batch in test_loader:\n",
    "        batch = {k: v.to(device) for k, v in batch.items()}\n",
    "        outputs = model(**batch)\n",
    "        predictions = torch.argmax(outputs.logits, dim=1).cpu().numpy()\n",
    "        test_preds.extend(predictions)\n",
    "        test_true.extend(batch[\"labels\"].cpu().numpy())\n",
    "\n",
    "# Test Accuracy\n",
    "accuracy = accuracy_score(test_true, test_preds)\n",
    "print(f\"\\nModel Accuracy of BERT Modedl For Sentiment Analysis: {accuracy:.4f}\")\n",
    "\n",
    "# Classification Report\n",
    "print(\"\\nClassification Report:\\n\", classification_report(test_true, test_preds))\n",
    "\n",
    "# Confusion Matrix\n",
    "cm = confusion_matrix(test_true, test_preds)\n",
    "sns.heatmap(cm, annot=True, fmt=\"d\", cmap=\"Blues\", xticklabels=[\"Defeat\", \"Victory\"], yticklabels=[\"Defeat\", \"Victory\"])\n",
    "plt.xlabel(\"Predicted\")\n",
    "plt.ylabel(\"Actual\")\n",
    "plt.title(\"Confusion Matrix\")\n",
    "plt.show()\n"
   ]
  },
  {
   "cell_type": "markdown",
   "id": "f72995e0-f380-457d-a7cd-6886bff33554",
   "metadata": {},
   "source": [
    "# Modify Classifier Head (Prevent Overfitting)- increasing dropout=0.5"
   ]
  },
  {
   "cell_type": "code",
   "execution_count": 70,
   "id": "aa18a27e-65df-415b-9153-26c41c271501",
   "metadata": {},
   "outputs": [
    {
     "data": {
      "text/html": [
       "<div>\n",
       "<style scoped>\n",
       "    .dataframe tbody tr th:only-of-type {\n",
       "        vertical-align: middle;\n",
       "    }\n",
       "\n",
       "    .dataframe tbody tr th {\n",
       "        vertical-align: top;\n",
       "    }\n",
       "\n",
       "    .dataframe thead th {\n",
       "        text-align: right;\n",
       "    }\n",
       "</style>\n",
       "<table border=\"1\" class=\"dataframe\">\n",
       "  <thead>\n",
       "    <tr style=\"text-align: right;\">\n",
       "      <th></th>\n",
       "      <th>index</th>\n",
       "      <th>last_sentence</th>\n",
       "      <th>outcome</th>\n",
       "    </tr>\n",
       "  </thead>\n",
       "  <tbody>\n",
       "    <tr>\n",
       "      <th>0</th>\n",
       "      <td>0</td>\n",
       "      <td>His final gambit, a symphony of silence permea...</td>\n",
       "      <td>0</td>\n",
       "    </tr>\n",
       "    <tr>\n",
       "      <th>1</th>\n",
       "      <td>1</td>\n",
       "      <td>The illustrious career of our protagonist met ...</td>\n",
       "      <td>0</td>\n",
       "    </tr>\n",
       "    <tr>\n",
       "      <th>2</th>\n",
       "      <td>2</td>\n",
       "      <td>The townsfolk slept, oblivious to the unfoldin...</td>\n",
       "      <td>1</td>\n",
       "    </tr>\n",
       "    <tr>\n",
       "      <th>3</th>\n",
       "      <td>3</td>\n",
       "      <td>This once-simple farmer had transformed into t...</td>\n",
       "      <td>1</td>\n",
       "    </tr>\n",
       "    <tr>\n",
       "      <th>4</th>\n",
       "      <td>4</td>\n",
       "      <td>His relentless pursuit of righting the wrong h...</td>\n",
       "      <td>1</td>\n",
       "    </tr>\n",
       "  </tbody>\n",
       "</table>\n",
       "</div>"
      ],
      "text/plain": [
       "   index                                      last_sentence  outcome\n",
       "0      0  His final gambit, a symphony of silence permea...        0\n",
       "1      1  The illustrious career of our protagonist met ...        0\n",
       "2      2  The townsfolk slept, oblivious to the unfoldin...        1\n",
       "3      3  This once-simple farmer had transformed into t...        1\n",
       "4      4  His relentless pursuit of righting the wrong h...        1"
      ]
     },
     "execution_count": 70,
     "metadata": {},
     "output_type": "execute_result"
    }
   ],
   "source": [
    "df.head()"
   ]
  },
  {
   "cell_type": "code",
   "execution_count": null,
   "id": "00446198-245b-4f4d-845c-44de49cf31d1",
   "metadata": {},
   "outputs": [],
   "source": []
  },
  {
   "cell_type": "code",
   "execution_count": 72,
   "id": "c4bb52f8-26ec-4dd6-abe2-ed2c84e2bc9a",
   "metadata": {},
   "outputs": [
    {
     "data": {
      "text/plain": [
       "<__main__.OutcomeDataset at 0x3193600e0>"
      ]
     },
     "execution_count": 72,
     "metadata": {},
     "output_type": "execute_result"
    }
   ],
   "source": [
    "train_dataset"
   ]
  },
  {
   "cell_type": "code",
   "execution_count": 153,
   "id": "a4b79f89-f4aa-45f8-88c1-2926264f2d4d",
   "metadata": {},
   "outputs": [
    {
     "name": "stderr",
     "output_type": "stream",
     "text": [
      "Some weights of BertForSequenceClassification were not initialized from the model checkpoint at bert-base-uncased and are newly initialized: ['classifier.bias', 'classifier.weight']\n",
      "You should probably TRAIN this model on a down-stream task to be able to use it for predictions and inference.\n"
     ]
    },
    {
     "name": "stdout",
     "output_type": "stream",
     "text": [
      "   index                                      last_sentence  outcome\n",
      "0      0  His final gambit, a symphony of silence permea...        0\n",
      "1      1  The illustrious career of our protagonist met ...        0\n",
      "2      2  The townsfolk slept, oblivious to the unfoldin...        1\n",
      "3      3  This once-simple farmer had transformed into t...        1\n",
      "4      4  His relentless pursuit of righting the wrong h...        1\n",
      "Total stories processed: 602\n",
      "Training samples: 384, Validation samples: 97, Testing samples: 121\n",
      "Using device: mps\n"
     ]
    },
    {
     "name": "stderr",
     "output_type": "stream",
     "text": [
      "/Users/hinaghazanfar/Documents/anaconda3/lib/python3.12/site-packages/transformers/optimization.py:591: FutureWarning: This implementation of AdamW is deprecated and will be removed in a future version. Use the PyTorch implementation torch.optim.AdamW instead, or set `no_deprecation_warning=True` to disable this warning\n",
      "  warnings.warn(\n",
      "Training Progress: 100%|██████████████████████████| 5/5 [02:10<00:00, 26.16s/it]\n",
      "Training Progress:  20%|█████▏                    | 1/5 [00:30<02:00, 30.13s/it]"
     ]
    },
    {
     "name": "stdout",
     "output_type": "stream",
     "text": [
      "Epoch 1: Train Loss=0.3528, Train Acc=0.4818, Val Loss=0.6789, Val Acc=0.6939\n"
     ]
    },
    {
     "name": "stderr",
     "output_type": "stream",
     "text": [
      "Training Progress:  40%|██████████▍               | 2/5 [00:59<01:29, 29.74s/it]"
     ]
    },
    {
     "name": "stdout",
     "output_type": "stream",
     "text": [
      "Epoch 2: Train Loss=0.3477, Train Acc=0.5208, Val Loss=0.6174, Val Acc=0.7959\n"
     ]
    },
    {
     "name": "stderr",
     "output_type": "stream",
     "text": [
      "Training Progress:  60%|███████████████▌          | 3/5 [01:29<00:59, 29.68s/it]"
     ]
    },
    {
     "name": "stdout",
     "output_type": "stream",
     "text": [
      "Epoch 3: Train Loss=0.2870, Train Acc=0.7474, Val Loss=0.4648, Val Acc=0.7551\n"
     ]
    },
    {
     "name": "stderr",
     "output_type": "stream",
     "text": [
      "Training Progress:  80%|████████████████████▊     | 4/5 [01:58<00:29, 29.59s/it]"
     ]
    },
    {
     "name": "stdout",
     "output_type": "stream",
     "text": [
      "Epoch 4: Train Loss=0.1837, Train Acc=0.8646, Val Loss=0.4417, Val Acc=0.7755\n"
     ]
    },
    {
     "name": "stderr",
     "output_type": "stream",
     "text": [
      "Training Progress: 100%|██████████████████████████| 5/5 [02:28<00:00, 29.55s/it]"
     ]
    },
    {
     "name": "stdout",
     "output_type": "stream",
     "text": [
      "Epoch 5: Train Loss=0.1101, Train Acc=0.9297, Val Loss=0.3904, Val Acc=0.8367\n"
     ]
    },
    {
     "data": {
      "image/png": "[encoded data removed]",
      "text/plain": [
       "<Figure size 800x600 with 1 Axes>"
      ]
     },
     "metadata": {},
     "output_type": "display_data"
    },
    {
     "name": "stdout",
     "output_type": "stream",
     "text": [
      "\n",
      " Test Accuracy: 0.8760\n",
      "\n",
      " Classification Report:\n",
      "               precision    recall  f1-score   support\n",
      "\n",
      "           0       0.90      0.86      0.88        63\n",
      "           1       0.85      0.90      0.87        58\n",
      "\n",
      "    accuracy                           0.88       121\n",
      "   macro avg       0.88      0.88      0.88       121\n",
      "weighted avg       0.88      0.88      0.88       121\n",
      "\n"
     ]
    },
    {
     "data": {
      "image/png": "[encoded data removed]",
      "text/plain": [
       "<Figure size 600x500 with 2 Axes>"
      ]
     },
     "metadata": {},
     "output_type": "display_data"
    }
   ],
   "source": [
    "import torch.nn as nn\n",
    "\n",
    "random.seed(SEED)\n",
    "np.random.seed(SEED)\n",
    "torch.manual_seed(SEED)\n",
    "torch.backends.cudnn.deterministic = True\n",
    "torch.backends.cudnn.benchmark = False\n",
    "set_seed(SEED)\n",
    "\n",
    "# Print dataset summary\n",
    "print(df.head())\n",
    "print(f\"Total stories processed: {len(df)}\")\n",
    "\n",
    "# Print dataset sizes\n",
    "print(f\"Training samples: {len(train_texts)}, Validation samples: {len(val_texts)}, Testing samples: {len(test_texts)}\")\n",
    "\n",
    "\n",
    "device = torch.device(\"mps\" if torch.backends.mps.is_available() else \"cpu\")\n",
    "print(f\"Using device: {device}\")\n",
    "\n",
    "\n",
    "from transformers import BertConfig\n",
    "\n",
    "# Load model configuration with new dropout rate\n",
    "\n",
    "config = BertConfig.from_pretrained(CHECKPOINT, num_labels=2, hidden_dropout_prob=0.3)\n",
    "# Reinitialize the model with new dropout settings\n",
    "model_Hina_senti = BertForSequenceClassification.from_pretrained(CHECKPOINT, config=config).to(device)\n",
    "\n",
    "\n",
    "# Optimizer & Scheduler\n",
    "optimizer = AdamW(model_Hina_senti.parameters(), lr=1e-5, weight_decay=0.02)\n",
    "EPOCHS = 5\n",
    "BATCH_SIZE = 2\n",
    "\n",
    "ACCUMULATION_STEPS = 2\n",
    "\n",
    "#num_warmup_steps = int(0.05 * num_training_steps) # 5% warm-up\n",
    "num_training_steps = (len(train_dataset) // BATCH_SIZE) * EPOCHS\n",
    "lr_scheduler = get_scheduler(\"linear\", optimizer=optimizer, num_warmup_steps=0, num_training_steps=num_training_steps)\n",
    "\n",
    "train_loader = DataLoader(train_dataset, batch_size=BATCH_SIZE, shuffle=True, collate_fn=data_collator)\n",
    "val_loader = DataLoader(val_dataset, batch_size=BATCH_SIZE, shuffle=False, collate_fn=data_collator)\n",
    "test_loader = DataLoader(test_dataset, batch_size=BATCH_SIZE, shuffle=False, collate_fn=data_collator)\n",
    "\n",
    "\n",
    "\n",
    "# Fine-Tune BERT for Sentiment Analysis with Validation, Training Accuracy & Early Stopping ---\n",
    "torch.mps.empty_cache()\n",
    "#progress_bar = tqdm(range(EPOCHS * len(train_loader)))\n",
    "progress_bar = tqdm(range(EPOCHS), desc=\"Training Progress\", leave=True, dynamic_ncols=True)\n",
    "train_losses = []\n",
    "val_losses = []\n",
    "train_accuracies = []\n",
    "\n",
    "# Early stopping variables\n",
    "best_val_loss = float('inf')\n",
    "patience = 2\n",
    "patience_counter = 0\n",
    "\n",
    "      \n",
    "\n",
    "for epoch in range(EPOCHS):\n",
    "    model_Hina_senti.train()\n",
    "    total_train_loss, correct_train = 0, 0\n",
    "    optimizer.zero_grad()\n",
    "    for i, batch in enumerate(train_loader):\n",
    "        batch = {k: v.to(device) for k, v in batch.items()}\n",
    "        outputs = model_Hina_senti(**batch)\n",
    "        loss = outputs.loss / ACCUMULATION_STEPS\n",
    "        total_train_loss += loss.item()\n",
    "        loss.backward()\n",
    "        torch.nn.utils.clip_grad_norm_(model.parameters(), max_norm=1.0)\n",
    "\n",
    "        if (i + 1) % ACCUMULATION_STEPS == 0:\n",
    "            optimizer.step()\n",
    "            optimizer.zero_grad()\n",
    "    \n",
    "        preds = torch.argmax(outputs.logits, dim=1)\n",
    "        correct_train += (preds == batch[\"labels\"]).sum().item()\n",
    "    \n",
    "    train_loss = total_train_loss / len(train_loader)\n",
    "    train_acc = correct_train / len(train_dataset)\n",
    "    train_losses.append(train_loss)\n",
    "    train_accs.append(train_acc)\n",
    "\n",
    "    model_Hina_senti.eval()\n",
    "    total_val_loss, correct_val = 0, 0\n",
    "    with torch.no_grad():\n",
    "        for batch in val_loader:\n",
    "            batch = {k: v.to(device) for k, v in batch.items()}\n",
    "            outputs = model_Hina_senti(**batch)\n",
    "            loss = outputs.loss\n",
    "            total_val_loss += loss.item()\n",
    "            preds = torch.argmax(outputs.logits, dim=1)\n",
    "            correct_val += (preds == batch[\"labels\"]).sum().item()\n",
    "    \n",
    "    val_loss = total_val_loss / len(val_loader)\n",
    "    val_acc = correct_val / len(val_dataset)\n",
    "    val_losses.append(val_loss)\n",
    "    val_accs.append(val_acc)\n",
    "    \n",
    "    print(f\"Epoch {epoch+1}: Train Loss={train_loss:.4f}, Train Acc={train_acc:.4f}, Val Loss={val_loss:.4f}, Val Acc={val_acc:.4f}\")\n",
    "    progress_bar.update()\n",
    "    \n",
    "\n",
    "\n",
    "# Loss Curve Visualization\n",
    "\n",
    "plt.figure(figsize=(8,6))\n",
    "plt.plot(range(1, len(train_losses)+1), train_losses, label=\"Training Loss\")\n",
    "plt.plot(range(1, len(val_losses)+1), val_losses, label=\"Validation Loss\")\n",
    "plt.xlabel(\"Epoch\")\n",
    "plt.ylabel(\"Loss\")\n",
    "plt.title(\"Training and Validation Loss\")\n",
    "plt.legend()\n",
    "plt.show()\n",
    "\n",
    "\n",
    "# Evaluate the Model on Test Set\n",
    "model_Hina_senti.eval()\n",
    "test_preds, test_true = [], []\n",
    "\n",
    "with torch.no_grad():\n",
    "    for batch in test_loader:\n",
    "        batch = {k: v.to(device) for k, v in batch.items()}\n",
    "        outputs = model_Hina_senti(**batch)\n",
    "        predictions = torch.argmax(outputs.logits, dim=1).cpu().numpy()\n",
    "        test_preds.extend(predictions)\n",
    "        test_true.extend(batch[\"labels\"].cpu().numpy())\n",
    "\n",
    "# Compute Accuracy\n",
    "accuracy = accuracy_score(test_true, test_preds)\n",
    "print(f\"\\n Test Accuracy: {accuracy:.4f}\")\n",
    "\n",
    "# Classification Report\n",
    "print(\"\\n Classification Report:\\n\", classification_report(test_true, test_preds))\n",
    "\n",
    "# Confusion Matrix\n",
    "cm = confusion_matrix(test_true, test_preds)\n",
    "plt.figure(figsize=(6,5))\n",
    "sns.heatmap(cm, annot=True, fmt=\"d\", cmap=\"Blues\", xticklabels=[\"defeat\", \"victory\"], yticklabels=[\"defeat\", \"victory\"])\n",
    "plt.xlabel(\"Predicted\")\n",
    "plt.ylabel(\"Actual\")\n",
    "plt.title(\"Confusion Matrix\")\n",
    "plt.show()\n"
   ]
  },
  {
   "cell_type": "code",
   "execution_count": null,
   "id": "4ae6a356-3520-4388-bb88-f9c077331613",
   "metadata": {},
   "outputs": [],
   "source": []
  },
  {
   "cell_type": "code",
   "execution_count": null,
   "id": "53c60f1a-e6da-4034-81f6-80aebc771f41",
   "metadata": {},
   "outputs": [],
   "source": [
    " '''  Early stopping check\n",
    "    if avg_val_loss < best_val_loss:\n",
    "        best_val_loss = avg_val_loss\n",
    "        patience_counter = 0  # reset counter on improvement\n",
    "        # Optionally, save the best model weights\n",
    "        torch.save(model.state_dict(), \"best_model.pt\")\n",
    "    else:\n",
    "        patience_counter += 1\n",
    "        if patience_counter >= patience:\n",
    "            print(\"Early stopping triggered.\")\n",
    "            break'''"
   ]
  },
  {
   "cell_type": "code",
   "execution_count": null,
   "id": "af88f4b5-0708-4d22-8c94-b4c1160c4a11",
   "metadata": {},
   "outputs": [],
   "source": [
    "# Define Function for Predicting Outcome \n",
    "def predict_outcome(sentence):\n",
    "    \"\"\"Predicts whether the last sentence indicates 'Victory' or 'Defeat'.\"\"\"\n",
    "    \n",
    "    # Tokenize input sentence\n",
    "    inputs = tokenizer(sentence, padding=\"max_length\", truncation=True, max_length=128, return_tensors=\"pt\")\n",
    "    inputs = {k: v.to(device) for k, v in inputs.items()}  # Move to GPU/MPS if available\n",
    "\n",
    "    # prediction\n",
    "    with torch.no_grad():\n",
    "        outputs = model(**inputs)\n",
    "        prediction = torch.argmax(outputs.logits, dim=1).item()  # Get predicted label\n",
    "    \n",
    "    # Converting label\n",
    "    return \"Victory\" if prediction == 1 else \"Defeat\"\n"
   ]
  },
  {
   "cell_type": "code",
   "execution_count": null,
   "id": "cfaa0f48-9241-4cce-a716-3f90a6517931",
   "metadata": {},
   "outputs": [],
   "source": [
    "# Predicting Outcome for Some Sentences from Dataset \n",
    "import random\n",
    "\n",
    "# Selecting 5 random last sentences from dataset\n",
    "sample_sentences = df[\"last_sentence\"].sample(5).tolist()\n",
    "\n",
    "print(\"\\n Predicted Outcomes for Sample Sentences:\")\n",
    "for i, sentence in enumerate(sample_sentences):\n",
    "    outcome = predict_outcome(sentence)\n",
    "    print(f\"{i+1}. {sentence}\")\n",
    "    print(f\"   ➡ Prediction: {outcome}\")\n",
    "    print(\"-\" * 80)\n"
   ]
  },
  {
   "cell_type": "code",
   "execution_count": null,
   "id": "db829d8b-4f68-41ad-8cc7-4e3000d0ea05",
   "metadata": {},
   "outputs": [],
   "source": [
    "# Save the model\n",
    "model.save_pretrained(\"my_finetuned_senti_model-BERT\")\n",
    "\n",
    "# Save the tokenizer (if you want to use it later as well)\n",
    "tokenizer.save_pretrained(\"my_finetuned_senti_model-BERT\")"
   ]
  },
  {
   "cell_type": "code",
   "execution_count": null,
   "id": "696af86d-6085-4ce8-9ec0-7f4139c7ae7e",
   "metadata": {},
   "outputs": [],
   "source": [
    "from transformers import pipeline\n",
    "\n",
    "model = \"my_finetuned_senti_model-BERT\"\n",
    "\n",
    "classifier = pipeline(\"sentiment-analysis\", model=model)\n",
    "\n",
    "sentences = [\"His quiet duty ended, not in glory, but in silent acceptance.\",\n",
    "             \"As the puppet master, shamed and thwarted, disappeared into the city's cold metal and concrete embrace, the man of curiosity stood victorious on the stage - not just in uncovering the city's secrets, but in exposing deception's slimy serpentine coils.\"]\n",
    "\n",
    "print(\"\")\n",
    "classifier(sentences)"
   ]
  },
  {
   "cell_type": "code",
   "execution_count": 163,
   "id": "22893c12-2993-4e19-bcdc-b3ef18f8d077",
   "metadata": {},
   "outputs": [
    {
     "name": "stdout",
     "output_type": "stream",
     "text": [
      "Collecting nltk\n",
      "  Downloading nltk-3.9.1-py3-none-any.whl.metadata (2.9 kB)\n",
      "Requirement already satisfied: click in /Users/hinaghazanfar/Documents/anaconda3/lib/python3.12/site-packages (from nltk) (8.1.7)\n",
      "Requirement already satisfied: joblib in /Users/hinaghazanfar/Documents/anaconda3/lib/python3.12/site-packages (from nltk) (1.4.2)\n",
      "Requirement already satisfied: regex>=2021.8.3 in /Users/hinaghazanfar/Documents/anaconda3/lib/python3.12/site-packages (from nltk) (2024.11.6)\n",
      "Requirement already satisfied: tqdm in /Users/hinaghazanfar/Documents/anaconda3/lib/python3.12/site-packages (from nltk) (4.66.5)\n",
      "Downloading nltk-3.9.1-py3-none-any.whl (1.5 MB)\n",
      "\u001b[2K   \u001b[90m━━━━━━━━━━━━━━━━━━━━━━━━━━━━━━━━━━━━━━━━\u001b[0m \u001b[32m1.5/1.5 MB\u001b[0m \u001b[31m14.2 MB/s\u001b[0m eta \u001b[36m0:00:00\u001b[0m\n",
      "\u001b[?25hInstalling collected packages: nltk\n",
      "Successfully installed nltk-3.9.1\n"
     ]
    }
   ],
   "source": [
    "!pip install nltk"
   ]
  },
  {
   "cell_type": "code",
   "execution_count": 171,
   "id": "6ac8a06e-557f-47b8-b68a-1efaab051a9d",
   "metadata": {},
   "outputs": [
    {
     "name": "stdout",
     "output_type": "stream",
     "text": [
      "Columns in DataFrame: Index(['index', 'last_sentence', 'outcome'], dtype='object')\n",
      "   index                                      last_sentence  outcome\n",
      "0      0  His final gambit, a symphony of silence permea...        0\n",
      "1      1  The illustrious career of our protagonist met ...        0\n",
      "2      2  The townsfolk slept, oblivious to the unfoldin...        1\n",
      "3      3  This once-simple farmer had transformed into t...        1\n",
      "4      4  His relentless pursuit of righting the wrong h...        1\n"
     ]
    }
   ],
   "source": [
    "print(\"Columns in DataFrame:\", df.columns)\n",
    "print(df.head())  # Print first few rows"
   ]
  },
  {
   "cell_type": "code",
   "execution_count": 167,
   "id": "e70e49c9-bdd5-41a3-855a-4d3bcb4227ee",
   "metadata": {},
   "outputs": [
    {
     "name": "stdout",
     "output_type": "stream",
     "text": [
      "{\n",
      "    \"index\": 0,\n",
      "    \"theme\": \"redemption\",\n",
      "    \"setting\": \"post-apocalyptic world\",\n",
      "    \"person\": \"explorer\",\n",
      "    \"style\": \"descriptive\",\n",
      "    \"outcome\": \"defeat\",\n",
      "    \"object_concept\": \"trombone\",\n",
      "    \"story\": \"In a reality where pillars of fire had danced from the heavens and sweaters of ash blanketed the ground, a solitary figure stood, steadfast in his quest for a semblance of the crumbled past. Something had shifted within this solitary figure when the scars of the world had started running too deep, his loneliness became a breeding ground for a seraphic resolve. Swaddled in worn-out cloaks that bore the pride of past expeditions, his tired feet had walked a thousand melancholic miles, steering his course through landscapes carved by catastrophe.\\\\n\\\\nThe sun was a sullen smudge in the dusty air, casting a sickly glow over charred hulks of once towering buildings, skeletal trees, and the ammonia-tinged seas. The lone voyager, with a face weathered by resilience and eyes that bore silent testimonies of tragedies, arrived at a city where buildings stood like fractured teeth against the eerily silent skyline. The city, a repository of ancient sorrow and tangled metal, held an echo, a phantom of its vibrant past that serenaded through the hollow bones of crumbling structures.\\\\n\\\\nEmbedded amid the debris was an object of inconclusive form, laced by tendrils of rust - a trombone, holding within its golden horn notes of a civilization long silenced. It served as a disheartening memento of joyous parades that once filled the streets, a blueprint of soulful ballads, and boisterous brass bands\\u2014the painful remnants of a world swallowed by calamity. The figure, already hardened by the aftershocks of a world's wake, held the trombone close, as if a bereaved soul cradling the last shred of their loved one.\\\\n\\\\nGuided by the power vested in him by the collective ghosts of before, he found himself pursuing the same melody that once reverberated through this city's loamy flesh. Despite the world's mortality being already decided, the solitary figure gambled on their tableau's possibility. Yet, as swarms of mechanical locusts marked survivors as threats, he discovered his path was charted towards unwinnable battles. The locusts, indomitable and ruthless, neither faltering nor falling at his desperate onslaught, turned daylights into a haunting melody of destruction.\\\\n\\\\nIn the end, the man once firm and unyielding was huddled in the shadow of a shattered monument, his body echoing the rhythm of defeat he couldn't outrun. The melancholic portrait of the would-be hero was etched on the crumbling walls of the city he tried to salvage\\u2014the trombone a remnant of the vestigial hope that had once powered his journey towards the unknown. His final gambit, a symphony of silence permeated by the relentless hum of victorious mechanical locusts.\",\n",
      "    \"question1\": \"How was the condition of the city when the protagonist arrived?\",\n",
      "    \"answer1\": \"\\\"The city, a repository of ancient sorrow and tangled metal, held an echo, a phantom of its vibrant past that serenaded through the hollow bones of crumbling structures.\\\"\",\n",
      "    \"question2\": \"What happens to the protagonist in his confrontation with the mechanical locusts?\",\n",
      "    \"answer2\": \"\\\"In the end, the man once firm and unyielding was huddled in the shadow of a shattered monument, his body echoing the rhythm of defeat he couldn't outrun.\\\"\"\n",
      "}\n"
     ]
    }
   ],
   "source": [
    "# Print a sample story\n",
    "print(json.dumps(data[\"stories\"][0], indent=4))"
   ]
  },
  {
   "cell_type": "markdown",
   "id": "b0b996ea-a5ac-4860-a846-30ff8737ebcd",
   "metadata": {},
   "source": [
    "# -------------------------- 3.2\tEmotional Content of Stories -----------------------"
   ]
  },
  {
   "cell_type": "markdown",
   "id": "4cb4184e-e94d-471e-9280-48207509e45b",
   "metadata": {},
   "source": [
    "# Step 1: Import Required Libraries"
   ]
  },
  {
   "cell_type": "code",
   "execution_count": 207,
   "id": "d5c4cd1f-b13a-4fbe-bdff-40b5e01e0184",
   "metadata": {},
   "outputs": [],
   "source": [
    "import json\n",
    "import torch\n",
    "from transformers import pipeline\n",
    "import numpy as np\n",
    "import pandas as pd\n",
    "import matplotlib.pyplot as plt\n",
    "import seaborn as sns\n",
    "import nltk\n",
    "from nltk.tokenize import sent_tokenize\n",
    "\n",
    "\n",
    "random.seed(40457510)\n",
    "# seed for NumPy\n",
    "np.random.seed(40457510)\n",
    "# seed for PyTorch\n",
    "torch.manual_seed(40457510)\n",
    "\n",
    "# using MPS, to ensure reproducibility\n",
    "if torch.backends.mps.is_available():\n",
    "    torch.mps.manual_seed(40457510)\n",
    "    torch.backends.mps.deterministic = True"
   ]
  },
  {
   "cell_type": "markdown",
   "id": "f8e08379-2271-4135-a7cc-315dcd9c21b8",
   "metadata": {},
   "source": [
    "# Step 2: Downloading Sentence Tokenizer"
   ]
  },
  {
   "cell_type": "code",
   "execution_count": 209,
   "id": "99bb0ded-6381-46e4-b1fa-24495118445a",
   "metadata": {},
   "outputs": [
    {
     "name": "stderr",
     "output_type": "stream",
     "text": [
      "[nltk_data] Downloading package punkt to\n",
      "[nltk_data]     /Users/hinaghazanfar/nltk_data...\n",
      "[nltk_data]   Package punkt is already up-to-date!\n",
      "[nltk_data] Downloading package punkt_tab to\n",
      "[nltk_data]     /Users/hinaghazanfar/nltk_data...\n",
      "[nltk_data]   Package punkt_tab is already up-to-date!\n"
     ]
    },
    {
     "data": {
      "text/plain": [
       "True"
      ]
     },
     "execution_count": 209,
     "metadata": {},
     "output_type": "execute_result"
    }
   ],
   "source": [
    "nltk.download('punkt')\n",
    "nltk.download('punkt_tab')"
   ]
  },
  {
   "cell_type": "markdown",
   "id": "8150166f-fb34-4a58-b6ff-d356a6725bcf",
   "metadata": {},
   "source": [
    "#  Step 3: Loading Dataset"
   ]
  },
  {
   "cell_type": "code",
   "execution_count": 211,
   "id": "aab7022f-e4e3-4ef9-833c-9b7438823bf7",
   "metadata": {},
   "outputs": [],
   "source": [
    "file_path = \"stories.json\" \n",
    "with open(file_path, \"r\", encoding=\"utf-8\") as file:\n",
    "    data = json.load(file)\n"
   ]
  },
  {
   "cell_type": "markdown",
   "id": "225d8519-9712-4818-a84d-69caa3613127",
   "metadata": {},
   "source": [
    "# Step 4: Extracting Story Text and Metadata"
   ]
  },
  {
   "cell_type": "code",
   "execution_count": 213,
   "id": "05b4f015-2576-450d-8ae8-b4b45274e5f0",
   "metadata": {},
   "outputs": [],
   "source": [
    "story_data_theme = []\n",
    "for story in data[\"stories\"]:\n",
    "    story_data_theme.append({\n",
    "        \"index\": story[\"index\"],\n",
    "        \"story\": story[\"story\"],  # Extracts the story text.\n",
    "        \"theme\": story[\"theme\"],  # e.g \"Rebellion\", \"Discovery\"\n",
    "    })\n",
    "\n",
    "df_emotions = pd.DataFrame(story_data_theme)\n"
   ]
  },
  {
   "cell_type": "markdown",
   "id": "ff3171fa-c828-4b60-a96c-7bed1d3803f6",
   "metadata": {},
   "source": [
    "# Step 5: Loading Pre-Trained Emotion Detection Model from hugging face"
   ]
  },
  {
   "cell_type": "code",
   "execution_count": 215,
   "id": "4fc72078-0aa2-4943-805a-9d89be5810e0",
   "metadata": {},
   "outputs": [
    {
     "name": "stderr",
     "output_type": "stream",
     "text": [
      "Device set to use mps:0\n",
      "/Users/hinaghazanfar/Documents/anaconda3/lib/python3.12/site-packages/transformers/pipelines/text_classification.py:106: UserWarning: `return_all_scores` is now deprecated,  if want a similar functionality use `top_k=None` instead of `return_all_scores=True` or `top_k=1` instead of `return_all_scores=False`.\n",
      "  warnings.warn(\n"
     ]
    }
   ],
   "source": [
    "story_emotion_model = pipeline(\"text-classification\", model=\"bhadresh-savani/bert-base-uncased-emotion\", return_all_scores=True)\n"
   ]
  },
  {
   "cell_type": "markdown",
   "id": "d846b68e-d93d-4e22-a674-2c0858e21036",
   "metadata": {},
   "source": [
    "# Step 6: Function to Compute Emotion Vectors"
   ]
  },
  {
   "cell_type": "code",
   "execution_count": 217,
   "id": "a2af2cab-c5d0-4d2d-9f97-b1fd238cbda6",
   "metadata": {},
   "outputs": [],
   "source": [
    "def get_story_emotion_vector(story_text):\n",
    "    \"\"\"Tokenizes the story into sentences, gets emotion probabilities for each sentence, \n",
    "    and averages them to get a final emotion vector for the story.\"\"\"\n",
    "    sentences = sent_tokenize(story_text)  # Split story into sentences\n",
    "    story_emotion_vectors = []\n",
    "    \n",
    "    for sentence in sentences:\n",
    "        try:\n",
    "            story_emotion_scores = story_emotion_model(sentence)  # Get emotion probabilities\n",
    "            # Convert list of dicts to a dictionary: {emotion_label: score}\n",
    "            story_emotion_dict = {item[\"label\"]: item[\"score\"] for item in story_emotion_scores[0]}\n",
    "            story_emotion_vectors.append(list(story_emotion_dict.values()))\n",
    "        except Exception as e:\n",
    "            print(f\"Error processing sentence: {sentence} -> {e}\")\n",
    "            continue  # Skip any errors\n",
    "\n",
    "    if len(story_emotion_vectors) == 0:\n",
    "        # If no valid scores are obtained, return a zero vector based on the expected number of emotions.\n",
    "        test_scores = story_emotion_model(\"This is a test sentence\")\n",
    "        return np.zeros(len(test_scores[0]))\n",
    "    \n",
    "    return np.mean(story_emotion_vectors, axis=0)  # Average across sentences\n",
    "\n",
    "\n"
   ]
  },
  {
   "cell_type": "markdown",
   "id": "dd8c08e5-94f5-486d-9201-ed78fd0513bb",
   "metadata": {},
   "source": [
    "# Step 7: Compute Emotion Vectors for Each Story"
   ]
  },
  {
   "cell_type": "code",
   "execution_count": 219,
   "id": "649b3c6a-c9fe-4724-8d30-f31dcfdfdec3",
   "metadata": {},
   "outputs": [
    {
     "name": "stdout",
     "output_type": "stream",
     "text": [
      "Story Emotions Vector Created\n"
     ]
    }
   ],
   "source": [
    "df_emotions[\"story_emotion_vector\"] = df_emotions[\"story\"].apply(get_story_emotion_vector)\n",
    "print(\"Story Emotions Vector Created\")"
   ]
  },
  {
   "cell_type": "markdown",
   "id": "ea7d4f0a-18b1-46d7-b9b5-9e9c8c9342ed",
   "metadata": {},
   "source": [
    "# Step 8: Convert Emotion Vectors into a DataFrame"
   ]
  },
  {
   "cell_type": "code",
   "execution_count": 221,
   "id": "d1b16ce8-6802-4f0e-96aa-976a35070d3c",
   "metadata": {},
   "outputs": [],
   "source": [
    "# Getting emotion categories from the model\n",
    "story_emotion_labels = [item[\"label\"] for item in story_emotion_model(\"This is a test sentence\")[0]]\n",
    "\n",
    "story_emotion_df = pd.DataFrame(df_emotions[\"story_emotion_vector\"].to_list(), columns=story_emotion_labels)\n",
    "# Merging the new DataFrame with the main DataFrame\n",
    "df_emotions = pd.concat([df_emotions, story_emotion_df], axis=1)\n"
   ]
  },
  {
   "cell_type": "markdown",
   "id": "ffafd2eb-5cfb-45a9-beda-5417fbf809bc",
   "metadata": {},
   "source": [
    "# Step 9: Analyze Emotional Content by Theme"
   ]
  },
  {
   "cell_type": "code",
   "execution_count": 248,
   "id": "1dbdda89-5a07-4862-a3cc-763573214d90",
   "metadata": {},
   "outputs": [
    {
     "name": "stdout",
     "output_type": "stream",
     "text": [
      "['sadness', 'joy', 'love', 'anger', 'fear', 'surprise']\n"
     ]
    }
   ],
   "source": [
    "print(story_emotion_labels)"
   ]
  },
  {
   "cell_type": "code",
   "execution_count": 223,
   "id": "9aa639f3-0404-4aa3-92b0-ad045ca229ec",
   "metadata": {},
   "outputs": [],
   "source": [
    "# Computing mean emotion scores per theme\n",
    "theme_grouped = df_emotions.groupby(\"theme\")[story_emotion_labels].mean()  \n"
   ]
  },
  {
   "cell_type": "markdown",
   "id": "8c67f7ef-aef3-44ef-9a6a-9c73ce36fb1d",
   "metadata": {},
   "source": [
    "# Step 10: Visualize Differences Across Themes"
   ]
  },
  {
   "cell_type": "code",
   "execution_count": 225,
   "id": "9b8af61d-4483-43b3-946e-aa9f794da295",
   "metadata": {},
   "outputs": [
    {
     "data": {
      "image/png": "[encoded data removed]",
      "text/plain": [
       "<Figure size 1000x600 with 2 Axes>"
      ]
     },
     "metadata": {},
     "output_type": "display_data"
    }
   ],
   "source": [
    "plt.figure(figsize=(10, 6))\n",
    "sns.heatmap(theme_grouped, annot=True, cmap=\"coolwarm\", linewidths=0.5)\n",
    "plt.title(\"Average Emotion Intensity per Theme\")\n",
    "plt.xlabel(\"Emotions\")\n",
    "plt.ylabel(\"Story Themes\")\n",
    "plt.show()\n"
   ]
  },
  {
   "cell_type": "markdown",
   "id": "84a7cb33-d638-4b93-a944-fd6be8913672",
   "metadata": {},
   "source": [
    "# Step 11: Print Summary"
   ]
  },
  {
   "cell_type": "code",
   "execution_count": 227,
   "id": "f254c075-7621-4bfd-bf79-9b6ee5391123",
   "metadata": {},
   "outputs": [
    {
     "name": "stdout",
     "output_type": "stream",
     "text": [
      "\n",
      "**Emotional Analysis of Themes**\n",
      "             sadness       joy      love     anger      fear  surprise\n",
      "theme                                                                 \n",
      "betrayal    0.162268  0.361587  0.034448  0.243583  0.175356  0.022758\n",
      "discovery   0.152373  0.449501  0.037097  0.141287  0.184681  0.035061\n",
      "love        0.134968  0.445900  0.084963  0.161444  0.153111  0.019614\n",
      "rebellion   0.118824  0.366774  0.027841  0.275827  0.196141  0.014594\n",
      "redemption  0.188181  0.381479  0.032363  0.235472  0.150063  0.012442\n"
     ]
    }
   ],
   "source": [
    "print(\"\\n**Emotional Analysis of Themes**\")\n",
    "print(theme_grouped)"
   ]
  },
  {
   "cell_type": "code",
   "execution_count": 242,
   "id": "5e6d6827-e195-4f4a-9473-0ae5f9711082",
   "metadata": {},
   "outputs": [
    {
     "name": "stdout",
     "output_type": "stream",
     "text": [
      "['redemption' 'discovery' 'betrayal' 'love' 'rebellion']\n"
     ]
    }
   ],
   "source": [
    "print(df_emotions[\"theme\"].unique())\n"
   ]
  },
  {
   "cell_type": "code",
   "execution_count": 244,
   "id": "87dcf32b-a699-45b5-8964-91b75bede7f6",
   "metadata": {},
   "outputs": [
    {
     "data": {
      "text/html": [
       "<div>\n",
       "<style scoped>\n",
       "    .dataframe tbody tr th:only-of-type {\n",
       "        vertical-align: middle;\n",
       "    }\n",
       "\n",
       "    .dataframe tbody tr th {\n",
       "        vertical-align: top;\n",
       "    }\n",
       "\n",
       "    .dataframe thead th {\n",
       "        text-align: right;\n",
       "    }\n",
       "</style>\n",
       "<table border=\"1\" class=\"dataframe\">\n",
       "  <thead>\n",
       "    <tr style=\"text-align: right;\">\n",
       "      <th></th>\n",
       "      <th>index</th>\n",
       "      <th>story</th>\n",
       "      <th>theme</th>\n",
       "      <th>story_emotion_vector</th>\n",
       "      <th>sadness</th>\n",
       "      <th>joy</th>\n",
       "      <th>love</th>\n",
       "      <th>anger</th>\n",
       "      <th>fear</th>\n",
       "      <th>surprise</th>\n",
       "    </tr>\n",
       "  </thead>\n",
       "  <tbody>\n",
       "    <tr>\n",
       "      <th>0</th>\n",
       "      <td>0</td>\n",
       "      <td>In a reality where pillars of fire had danced ...</td>\n",
       "      <td>redemption</td>\n",
       "      <td>[0.5879056453704834, 0.2111320477561094, 0.047...</td>\n",
       "      <td>0.587906</td>\n",
       "      <td>0.211132</td>\n",
       "      <td>0.047633</td>\n",
       "      <td>0.101521</td>\n",
       "      <td>0.049543</td>\n",
       "      <td>0.002265</td>\n",
       "    </tr>\n",
       "    <tr>\n",
       "      <th>1</th>\n",
       "      <td>1</td>\n",
       "      <td>In an epoch characterized by towering peaks of...</td>\n",
       "      <td>discovery</td>\n",
       "      <td>[0.18160645973875944, 0.6750672762063914, 0.01...</td>\n",
       "      <td>0.181606</td>\n",
       "      <td>0.675067</td>\n",
       "      <td>0.012012</td>\n",
       "      <td>0.060524</td>\n",
       "      <td>0.066685</td>\n",
       "      <td>0.004106</td>\n",
       "    </tr>\n",
       "    <tr>\n",
       "      <th>2</th>\n",
       "      <td>2</td>\n",
       "      <td>In the midst of a quaint hamlet, nestled betwe...</td>\n",
       "      <td>discovery</td>\n",
       "      <td>[0.018666005041450263, 0.6614795417757705, 0.0...</td>\n",
       "      <td>0.018666</td>\n",
       "      <td>0.661480</td>\n",
       "      <td>0.010948</td>\n",
       "      <td>0.084634</td>\n",
       "      <td>0.215141</td>\n",
       "      <td>0.009132</td>\n",
       "    </tr>\n",
       "    <tr>\n",
       "      <th>3</th>\n",
       "      <td>3</td>\n",
       "      <td>In the heart of an isolated, provincial region...</td>\n",
       "      <td>betrayal</td>\n",
       "      <td>[0.11796499322586254, 0.4481127232378212, 0.00...</td>\n",
       "      <td>0.117965</td>\n",
       "      <td>0.448113</td>\n",
       "      <td>0.006952</td>\n",
       "      <td>0.166713</td>\n",
       "      <td>0.199629</td>\n",
       "      <td>0.060628</td>\n",
       "    </tr>\n",
       "    <tr>\n",
       "      <th>4</th>\n",
       "      <td>4</td>\n",
       "      <td>In the pulsating heart of a bustling, steel-cl...</td>\n",
       "      <td>redemption</td>\n",
       "      <td>[0.05442076021184524, 0.49201023367802715, 0.0...</td>\n",
       "      <td>0.054421</td>\n",
       "      <td>0.492010</td>\n",
       "      <td>0.049288</td>\n",
       "      <td>0.373000</td>\n",
       "      <td>0.025664</td>\n",
       "      <td>0.005617</td>\n",
       "    </tr>\n",
       "  </tbody>\n",
       "</table>\n",
       "</div>"
      ],
      "text/plain": [
       "   index                                              story       theme  \\\n",
       "0      0  In a reality where pillars of fire had danced ...  redemption   \n",
       "1      1  In an epoch characterized by towering peaks of...   discovery   \n",
       "2      2  In the midst of a quaint hamlet, nestled betwe...   discovery   \n",
       "3      3  In the heart of an isolated, provincial region...    betrayal   \n",
       "4      4  In the pulsating heart of a bustling, steel-cl...  redemption   \n",
       "\n",
       "                                story_emotion_vector   sadness       joy  \\\n",
       "0  [0.5879056453704834, 0.2111320477561094, 0.047...  0.587906  0.211132   \n",
       "1  [0.18160645973875944, 0.6750672762063914, 0.01...  0.181606  0.675067   \n",
       "2  [0.018666005041450263, 0.6614795417757705, 0.0...  0.018666  0.661480   \n",
       "3  [0.11796499322586254, 0.4481127232378212, 0.00...  0.117965  0.448113   \n",
       "4  [0.05442076021184524, 0.49201023367802715, 0.0...  0.054421  0.492010   \n",
       "\n",
       "       love     anger      fear  surprise  \n",
       "0  0.047633  0.101521  0.049543  0.002265  \n",
       "1  0.012012  0.060524  0.066685  0.004106  \n",
       "2  0.010948  0.084634  0.215141  0.009132  \n",
       "3  0.006952  0.166713  0.199629  0.060628  \n",
       "4  0.049288  0.373000  0.025664  0.005617  "
      ]
     },
     "execution_count": 244,
     "metadata": {},
     "output_type": "execute_result"
    }
   ],
   "source": [
    "df_emotions.head()"
   ]
  },
  {
   "cell_type": "code",
   "execution_count": 246,
   "id": "e76e2e56-050b-403b-abe1-f16b4e380414",
   "metadata": {},
   "outputs": [
    {
     "name": "stdout",
     "output_type": "stream",
     "text": [
      "     index                                              story theme  \\\n",
      "5        5  He built worlds with his mind. His hands, tool...  love   \n",
      "6        6  In a pocket of rural tranquility, a man arrive...  love   \n",
      "11      11  In the aftermath of chaos, the cities lay empt...  love   \n",
      "13      13  In an olden epoch, under the broad canvas of a...  love   \n",
      "15      15  Beneath the cosmic tapestry where stars twinkl...  love   \n",
      "..     ...                                                ...   ...   \n",
      "566    566  In a bustling cityscape of glass and steel, wh...  love   \n",
      "590    590  Among the cobblestone streets of an epoch long...  love   \n",
      "592    592  There was chaos. Smoke curled. Buildings shatt...  love   \n",
      "594    594  In a time long past, beneath the shadow of the...  love   \n",
      "601    601  Amidst the wreckage that once was, he stood. H...  love   \n",
      "\n",
      "                                  story_emotion_vector   sadness       joy  \\\n",
      "5    [0.14883859166988142, 0.4367512751660768, 0.05...  0.148839  0.436751   \n",
      "6    [0.1999621165470065, 0.2816518699963732, 0.050...  0.199962  0.281652   \n",
      "11   [0.256537229870446, 0.5911817270546005, 0.0130...  0.256537  0.591182   \n",
      "13   [0.010894328477055145, 0.5308908516075462, 0.1...  0.010894  0.530891   \n",
      "15   [0.13641713947380105, 0.40860260873495674, 0.0...  0.136417  0.408603   \n",
      "..                                                 ...       ...       ...   \n",
      "566  [0.1284026790131715, 0.40991124712828814, 0.17...  0.128403  0.409911   \n",
      "590  [0.18457367060455, 0.291083855812758, 0.032579...  0.184574  0.291084   \n",
      "592  [0.15230334663985642, 0.21035957959315435, 0.0...  0.152303  0.210360   \n",
      "594  [0.1281970250483937, 0.40470097414890915, 0.07...  0.128197  0.404701   \n",
      "601  [0.24123231129545042, 0.4204511622808116, 0.03...  0.241232  0.420451   \n",
      "\n",
      "         love     anger      fear  surprise  \n",
      "5    0.058059  0.222011  0.126812  0.007528  \n",
      "6    0.050542  0.329054  0.132015  0.006774  \n",
      "11   0.013066  0.008854  0.073121  0.057240  \n",
      "13   0.120632  0.102560  0.228910  0.006113  \n",
      "15   0.063226  0.320418  0.065905  0.005431  \n",
      "..        ...       ...       ...       ...  \n",
      "566  0.170340  0.109904  0.170699  0.010743  \n",
      "590  0.032579  0.196309  0.289386  0.006068  \n",
      "592  0.044688  0.309327  0.274100  0.009222  \n",
      "594  0.077051  0.173766  0.174312  0.041972  \n",
      "601  0.036683  0.153442  0.104162  0.044030  \n",
      "\n",
      "[117 rows x 10 columns]\n"
     ]
    }
   ],
   "source": [
    "print(df_emotions[df_emotions[\"theme\"] == \"love\"])\n"
   ]
  },
  {
   "cell_type": "code",
   "execution_count": 250,
   "id": "f22cf56a-4774-4e55-985c-d6741969ed41",
   "metadata": {},
   "outputs": [
    {
     "name": "stdout",
     "output_type": "stream",
     "text": [
      "      sadness       joy      love     anger      fear  surprise\n",
      "0    0.587906  0.211132  0.047633  0.101521  0.049543  0.002265\n",
      "1    0.181606  0.675067  0.012012  0.060524  0.066685  0.004106\n",
      "2    0.018666  0.661480  0.010948  0.084634  0.215141  0.009132\n",
      "3    0.117965  0.448113  0.006952  0.166713  0.199629  0.060628\n",
      "4    0.054421  0.492010  0.049288  0.373000  0.025664  0.005617\n",
      "..        ...       ...       ...       ...       ...       ...\n",
      "597  0.062162  0.615582  0.020913  0.193578  0.096202  0.011564\n",
      "598  0.105740  0.140993  0.040049  0.489289  0.220940  0.002988\n",
      "599  0.176744  0.196759  0.043235  0.229680  0.348640  0.004942\n",
      "600  0.074178  0.582149  0.008888  0.271753  0.061103  0.001929\n",
      "601  0.241232  0.420451  0.036683  0.153442  0.104162  0.044030\n",
      "\n",
      "[602 rows x 6 columns]\n"
     ]
    }
   ],
   "source": [
    "print(story_emotion_df)"
   ]
  },
  {
   "cell_type": "code",
   "execution_count": 252,
   "id": "9364a27f-a3f1-481b-b2c4-6f785f29b305",
   "metadata": {},
   "outputs": [
    {
     "data": {
      "text/plain": [
       "{'index': 5,\n",
       " 'theme': 'love',\n",
       " 'setting': 'outer space',\n",
       " 'person': 'inventor',\n",
       " 'style': 'concise',\n",
       " 'outcome': 'defeat',\n",
       " 'object_concept': 'suit',\n",
       " 'story': 'He built worlds with his mind. His hands, tools of creation. No, not on solid ground. Beyond the blue veil. The universe was his raw material. \\\\n\\\\nYet, he craved more.\\\\n\\\\nA new project took root. A contraption to give birth to affection. A suit was devised. To be worn, to be lived in. Its function – to catalyst emotions. Unprecedented, unheard of. A mechanical heart, the suit had. Not of iron, but of emotions. Still, void of human touch.\\\\n\\\\nHer name, Iris. A woman of vigor. Of intellect. The planet’s leading linguist. A common friend united them. An evening. A gala. \\\\n\\\\nShe saw him. A spark arose. His eyes met hers. Hesitant, yet longing. Conversation unfolded. About the cosmos. About his creations. About her linguistic prowess. Drawn, they were, to one another.\\\\n\\\\nThe suit was ready. He chose Iris. His first test subject. Fearless, she was. On a night of shooting stars, it commenced. Suited up, both took flight. No words, just glances. Fractions of emotions flickered. The suit worked.\\\\n\\\\nDays turned into weeks. Affection grew. His biggest creation succeeding. The suit had breathed life into a concept. A feeling. It became their secret. Their getaway. Their paradise beyond the stars.\\\\n\\\\nA comet announced disaster. Iris was taken ill. The suit had poisoned her. Its emotional concoction too powerful. Toxic for a mortal soul. She withered. He, desperate. His creation, now a monster. His paradise, crumbling.\\\\n\\\\nHe fabricated an antidote. A desperate attempt. It failed. Her life seeped away. His hands, once creators, now destroyers.\\\\n\\\\nThe cosmos echoed his screams. His suit, the villain. His work, a nemesis. His triumph, a loss. Iris, his heart, lost among the stars. His own creation had claimed him. His world, built with his mind, shattered with his heart.',\n",
       " 'question1': 'Who was the first test subject of his suit?',\n",
       " 'answer1': '\"He chose Iris. His first test subject.\"',\n",
       " 'question2': 'What was the outcome of his attempt to save Iris?',\n",
       " 'answer2': '\"He fabricated an antidote. A desperate attempt. It failed. Her life seeped away.\"'}"
      ]
     },
     "execution_count": 252,
     "metadata": {},
     "output_type": "execute_result"
    }
   ],
   "source": [
    "data[\"stories\"][5]"
   ]
  },
  {
   "cell_type": "code",
   "execution_count": 256,
   "id": "d58e881e-18e5-403d-bf53-647999d27223",
   "metadata": {},
   "outputs": [
    {
     "name": "stdout",
     "output_type": "stream",
     "text": [
      "3     In the heart of an isolated, provincial region...\n",
      "7     Protagonist One, a media professional, found h...\n",
      "9     In the palpable, humming milieu of an era ador...\n",
      "12    In a city of glass towers and neon lights, liv...\n",
      "16    In the heart of a quaint village visitors ofte...\n",
      "Name: story, dtype: object\n"
     ]
    }
   ],
   "source": [
    "print(df_emotions[df_emotions[\"theme\"] == \"betrayal\"][\"story\"].head(5))\n"
   ]
  },
  {
   "cell_type": "code",
   "execution_count": null,
   "id": "9054501a-852f-4f2e-95e7-b8bf64c1e79d",
   "metadata": {},
   "outputs": [],
   "source": []
  }
 ],
 "metadata": {
  "kernelspec": {
   "display_name": "Python 3 (ipykernel)",
   "language": "python",
   "name": "python3"
  },
  "language_info": {
   "codemirror_mode": {
    "name": "ipython",
    "version": 3
   },
   "file_extension": ".py",
   "mimetype": "text/x-python",
   "name": "python",
   "nbconvert_exporter": "python",
   "pygments_lexer": "ipython3",
   "version": "3.12.7"
  }
 },
 "nbformat": 4,
 "nbformat_minor": 5
}
